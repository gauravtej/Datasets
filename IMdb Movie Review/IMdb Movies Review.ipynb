{
 "cells": [
  {
   "cell_type": "code",
   "execution_count": 1,
   "id": "126eb685",
   "metadata": {},
   "outputs": [],
   "source": [
    "import pandas as pd "
   ]
  },
  {
   "cell_type": "code",
   "execution_count": 2,
   "id": "c7c62793",
   "metadata": {},
   "outputs": [],
   "source": [
    "imdb_df = pd.read_csv('IMDB Dataset.csv')"
   ]
  },
  {
   "cell_type": "code",
   "execution_count": 3,
   "id": "b855498a",
   "metadata": {
    "scrolled": true
   },
   "outputs": [
    {
     "name": "stdout",
     "output_type": "stream",
     "text": [
      "<class 'pandas.core.frame.DataFrame'>\n",
      "RangeIndex: 19999 entries, 0 to 19998\n",
      "Data columns (total 2 columns):\n",
      " #   Column     Non-Null Count  Dtype \n",
      "---  ------     --------------  ----- \n",
      " 0   review     19999 non-null  object\n",
      " 1   sentiment  19999 non-null  object\n",
      "dtypes: object(2)\n",
      "memory usage: 312.6+ KB\n"
     ]
    }
   ],
   "source": [
    "imdb_df.info() #shows 19999 records with no null values"
   ]
  },
  {
   "cell_type": "code",
   "execution_count": 4,
   "id": "f015a184",
   "metadata": {
    "scrolled": true
   },
   "outputs": [
    {
     "name": "stdout",
     "output_type": "stream",
     "text": [
      "<class 'pandas.core.frame.DataFrame'>\n",
      "Int64Index: 15000 entries, 10650 to 13861\n",
      "Data columns (total 2 columns):\n",
      " #   Column     Non-Null Count  Dtype \n",
      "---  ------     --------------  ----- \n",
      " 0   review     15000 non-null  object\n",
      " 1   sentiment  15000 non-null  object\n",
      "dtypes: object(2)\n",
      "memory usage: 351.6+ KB\n"
     ]
    }
   ],
   "source": [
    "imdb_sample_df = imdb_df.sample(n= 15000, random_state= 42)#randomly picking 15000 records from the main data\n",
    "imdb_sample_df.info()"
   ]
  },
  {
   "cell_type": "code",
   "execution_count": 5,
   "id": "c25662cc",
   "metadata": {},
   "outputs": [],
   "source": [
    "imdb_sample_df = imdb_sample_df.reset_index(drop= True)"
   ]
  },
  {
   "cell_type": "code",
   "execution_count": 8,
   "id": "4bd0f2ef",
   "metadata": {
    "scrolled": true
   },
   "outputs": [
    {
     "data": {
      "text/html": [
       "<div>\n",
       "<style scoped>\n",
       "    .dataframe tbody tr th:only-of-type {\n",
       "        vertical-align: middle;\n",
       "    }\n",
       "\n",
       "    .dataframe tbody tr th {\n",
       "        vertical-align: top;\n",
       "    }\n",
       "\n",
       "    .dataframe thead th {\n",
       "        text-align: right;\n",
       "    }\n",
       "</style>\n",
       "<table border=\"1\" class=\"dataframe\">\n",
       "  <thead>\n",
       "    <tr style=\"text-align: right;\">\n",
       "      <th></th>\n",
       "      <th>review</th>\n",
       "      <th>sentiment</th>\n",
       "    </tr>\n",
       "  </thead>\n",
       "  <tbody>\n",
       "    <tr>\n",
       "      <th>0</th>\n",
       "      <td>I don't want to bore everyone by reiterating w...</td>\n",
       "      <td>positive</td>\n",
       "    </tr>\n",
       "    <tr>\n",
       "      <th>1</th>\n",
       "      <td>I like Wes Studi &amp; especially Adam Beach, but ...</td>\n",
       "      <td>negative</td>\n",
       "    </tr>\n",
       "    <tr>\n",
       "      <th>2</th>\n",
       "      <td>I'm sure this was one of those \"WOAH!\" attract...</td>\n",
       "      <td>negative</td>\n",
       "    </tr>\n",
       "    <tr>\n",
       "      <th>3</th>\n",
       "      <td>As a fan of Henriksen (I liked him in the \"Mil...</td>\n",
       "      <td>negative</td>\n",
       "    </tr>\n",
       "    <tr>\n",
       "      <th>4</th>\n",
       "      <td>Best animated movie ever made. This film explo...</td>\n",
       "      <td>positive</td>\n",
       "    </tr>\n",
       "    <tr>\n",
       "      <th>...</th>\n",
       "      <td>...</td>\n",
       "      <td>...</td>\n",
       "    </tr>\n",
       "    <tr>\n",
       "      <th>14995</th>\n",
       "      <td>Harlan Knowles (Lance Henriksen) brings a grou...</td>\n",
       "      <td>negative</td>\n",
       "    </tr>\n",
       "    <tr>\n",
       "      <th>14996</th>\n",
       "      <td>I can't help thinking that this is Franco's 'h...</td>\n",
       "      <td>negative</td>\n",
       "    </tr>\n",
       "    <tr>\n",
       "      <th>14997</th>\n",
       "      <td>The movie starts in spring 2001. A soldier nam...</td>\n",
       "      <td>negative</td>\n",
       "    </tr>\n",
       "    <tr>\n",
       "      <th>14998</th>\n",
       "      <td>I found the first bit of stop motion animation...</td>\n",
       "      <td>negative</td>\n",
       "    </tr>\n",
       "    <tr>\n",
       "      <th>14999</th>\n",
       "      <td>I haven't read the source, Richard Brooks' nov...</td>\n",
       "      <td>positive</td>\n",
       "    </tr>\n",
       "  </tbody>\n",
       "</table>\n",
       "<p>15000 rows × 2 columns</p>\n",
       "</div>"
      ],
      "text/plain": [
       "                                                  review sentiment\n",
       "0      I don't want to bore everyone by reiterating w...  positive\n",
       "1      I like Wes Studi & especially Adam Beach, but ...  negative\n",
       "2      I'm sure this was one of those \"WOAH!\" attract...  negative\n",
       "3      As a fan of Henriksen (I liked him in the \"Mil...  negative\n",
       "4      Best animated movie ever made. This film explo...  positive\n",
       "...                                                  ...       ...\n",
       "14995  Harlan Knowles (Lance Henriksen) brings a grou...  negative\n",
       "14996  I can't help thinking that this is Franco's 'h...  negative\n",
       "14997  The movie starts in spring 2001. A soldier nam...  negative\n",
       "14998  I found the first bit of stop motion animation...  negative\n",
       "14999  I haven't read the source, Richard Brooks' nov...  positive\n",
       "\n",
       "[15000 rows x 2 columns]"
      ]
     },
     "execution_count": 8,
     "metadata": {},
     "output_type": "execute_result"
    }
   ],
   "source": [
    "imdb_sample_df"
   ]
  },
  {
   "cell_type": "code",
   "execution_count": 9,
   "id": "7f4631d3",
   "metadata": {},
   "outputs": [],
   "source": [
    "imdb_sample_df['sentiment'] = imdb_sample_df['sentiment'].map({'positive': 1, 'negative': 0})"
   ]
  },
  {
   "cell_type": "code",
   "execution_count": 10,
   "id": "c6f31e0f",
   "metadata": {},
   "outputs": [
    {
     "data": {
      "text/html": [
       "<div>\n",
       "<style scoped>\n",
       "    .dataframe tbody tr th:only-of-type {\n",
       "        vertical-align: middle;\n",
       "    }\n",
       "\n",
       "    .dataframe tbody tr th {\n",
       "        vertical-align: top;\n",
       "    }\n",
       "\n",
       "    .dataframe thead th {\n",
       "        text-align: right;\n",
       "    }\n",
       "</style>\n",
       "<table border=\"1\" class=\"dataframe\">\n",
       "  <thead>\n",
       "    <tr style=\"text-align: right;\">\n",
       "      <th></th>\n",
       "      <th>review</th>\n",
       "      <th>sentiment</th>\n",
       "    </tr>\n",
       "  </thead>\n",
       "  <tbody>\n",
       "    <tr>\n",
       "      <th>0</th>\n",
       "      <td>I don't want to bore everyone by reiterating w...</td>\n",
       "      <td>1</td>\n",
       "    </tr>\n",
       "    <tr>\n",
       "      <th>1</th>\n",
       "      <td>I like Wes Studi &amp; especially Adam Beach, but ...</td>\n",
       "      <td>0</td>\n",
       "    </tr>\n",
       "    <tr>\n",
       "      <th>2</th>\n",
       "      <td>I'm sure this was one of those \"WOAH!\" attract...</td>\n",
       "      <td>0</td>\n",
       "    </tr>\n",
       "    <tr>\n",
       "      <th>3</th>\n",
       "      <td>As a fan of Henriksen (I liked him in the \"Mil...</td>\n",
       "      <td>0</td>\n",
       "    </tr>\n",
       "    <tr>\n",
       "      <th>4</th>\n",
       "      <td>Best animated movie ever made. This film explo...</td>\n",
       "      <td>1</td>\n",
       "    </tr>\n",
       "  </tbody>\n",
       "</table>\n",
       "</div>"
      ],
      "text/plain": [
       "                                              review  sentiment\n",
       "0  I don't want to bore everyone by reiterating w...          1\n",
       "1  I like Wes Studi & especially Adam Beach, but ...          0\n",
       "2  I'm sure this was one of those \"WOAH!\" attract...          0\n",
       "3  As a fan of Henriksen (I liked him in the \"Mil...          0\n",
       "4  Best animated movie ever made. This film explo...          1"
      ]
     },
     "execution_count": 10,
     "metadata": {},
     "output_type": "execute_result"
    }
   ],
   "source": [
    "imdb_sample_df.head()"
   ]
  },
  {
   "cell_type": "code",
   "execution_count": 12,
   "id": "41dc208a",
   "metadata": {},
   "outputs": [],
   "source": [
    "import matplotlib.pyplot as plt\n",
    "import seaborn as sn\n",
    "%matplotlib inline"
   ]
  },
  {
   "cell_type": "code",
   "execution_count": 21,
   "id": "8e67fb6b",
   "metadata": {
    "scrolled": true
   },
   "outputs": [
    {
     "data": {
      "text/plain": [
       "<AxesSubplot:xlabel='sentiment', ylabel='count'>"
      ]
     },
     "execution_count": 21,
     "metadata": {},
     "output_type": "execute_result"
    },
    {
     "data": {
      "image/png": "[encoded data removed]",
      "text/plain": [
       "<Figure size 600x600 with 1 Axes>"
      ]
     },
     "metadata": {},
     "output_type": "display_data"
    }
   ],
   "source": [
    "plt.figure(figsize=(6,6))\n",
    "sn.countplot(x= 'sentiment', data= imdb_sample_df)#checking if the positive and negative comments data is not\n",
    "#imbalanced"
   ]
  },
  {
   "cell_type": "code",
   "execution_count": 23,
   "id": "5ce42e00",
   "metadata": {
    "scrolled": true
   },
   "outputs": [
    {
     "data": {
      "text/plain": [
       "0    0.503933\n",
       "1    0.496067\n",
       "Name: sentiment, dtype: float64"
      ]
     },
     "execution_count": 23,
     "metadata": {},
     "output_type": "execute_result"
    }
   ],
   "source": [
    "imdb_sample_df['sentiment'].value_counts(normalize= True)#data is balanced with sentiments. Therefore, \n",
    "#under-sampling, over-sampling is not required"
   ]
  },
  {
   "cell_type": "code",
   "execution_count": 24,
   "id": "8c9b8cbd",
   "metadata": {},
   "outputs": [],
   "source": [
    "import re\n",
    "import nltk"
   ]
  },
  {
   "cell_type": "markdown",
   "id": "d9ae2533",
   "metadata": {},
   "source": [
    "# performing text cleaning and preprocessing"
   ]
  },
  {
   "cell_type": "code",
   "execution_count": 25,
   "id": "16bb3548",
   "metadata": {},
   "outputs": [],
   "source": [
    "from nltk.corpus import stopwords\n",
    "from nltk.stem.porter import PorterStemmer\n",
    "from nltk.stem import WordNetLemmatizer"
   ]
  },
  {
   "cell_type": "code",
   "execution_count": 26,
   "id": "1e7ce58c",
   "metadata": {},
   "outputs": [],
   "source": [
    "lemmatizer = WordNetLemmatizer()"
   ]
  },
  {
   "cell_type": "code",
   "execution_count": 29,
   "id": "a09cf411",
   "metadata": {},
   "outputs": [],
   "source": [
    "corpus = []\n",
    "for i in range(0,len(imdb_sample_df)):\n",
    "    review = re.sub('[^a-zA-Z]', ' ', imdb_sample_df['review'][i])\n",
    "    review = review.lower()\n",
    "    review = review.split()#extracting words out of a sentence that is tokens\n",
    "    review = [lemmatizer.lemmatize(word) for word in review if not word in stopwords.words('english')]\n",
    "    review = ' '.join(review)#re joining words or tokens to create a sentence\n",
    "    corpus.append(review)"
   ]
  },
  {
   "cell_type": "code",
   "execution_count": 30,
   "id": "6c546e33",
   "metadata": {},
   "outputs": [],
   "source": [
    "from sklearn.feature_extraction.text import CountVectorizer\n",
    "cv = CountVectorizer(stop_words= 'english')\n",
    "X = cv.fit_transform(corpus).toarray()"
   ]
  },
  {
   "cell_type": "code",
   "execution_count": 31,
   "id": "f5fa4b13",
   "metadata": {
    "scrolled": false
   },
   "outputs": [
    {
     "data": {
      "text/plain": [
       "0        1\n",
       "1        0\n",
       "2        0\n",
       "3        0\n",
       "4        1\n",
       "        ..\n",
       "14995    0\n",
       "14996    0\n",
       "14997    0\n",
       "14998    0\n",
       "14999    1\n",
       "Name: sentiment, Length: 15000, dtype: int64"
      ]
     },
     "execution_count": 31,
     "metadata": {},
     "output_type": "execute_result"
    }
   ],
   "source": [
    "Y = imdb_sample_df['sentiment']\n",
    "Y"
   ]
  },
  {
   "cell_type": "markdown",
   "id": "b61b0516",
   "metadata": {},
   "source": [
    "# finding max_features required"
   ]
  },
  {
   "cell_type": "code",
   "execution_count": 32,
   "id": "9942b116",
   "metadata": {},
   "outputs": [],
   "source": [
    "import numpy as np"
   ]
  },
  {
   "cell_type": "code",
   "execution_count": 33,
   "id": "21d62abe",
   "metadata": {},
   "outputs": [],
   "source": [
    "featurecount = np.sum(X, axis= 0)"
   ]
  },
  {
   "cell_type": "code",
   "execution_count": 34,
   "id": "49c4914e",
   "metadata": {},
   "outputs": [],
   "source": [
    "features = cv.get_feature_names_out()"
   ]
  },
  {
   "cell_type": "code",
   "execution_count": 35,
   "id": "ce73ce73",
   "metadata": {},
   "outputs": [],
   "source": [
    "featurecountdf = pd.DataFrame(dict(features = features, counts = featurecount))"
   ]
  },
  {
   "cell_type": "code",
   "execution_count": 36,
   "id": "9b3f9664",
   "metadata": {
    "scrolled": true
   },
   "outputs": [
    {
     "data": {
      "text/html": [
       "<div>\n",
       "<style scoped>\n",
       "    .dataframe tbody tr th:only-of-type {\n",
       "        vertical-align: middle;\n",
       "    }\n",
       "\n",
       "    .dataframe tbody tr th {\n",
       "        vertical-align: top;\n",
       "    }\n",
       "\n",
       "    .dataframe thead th {\n",
       "        text-align: right;\n",
       "    }\n",
       "</style>\n",
       "<table border=\"1\" class=\"dataframe\">\n",
       "  <thead>\n",
       "    <tr style=\"text-align: right;\">\n",
       "      <th></th>\n",
       "      <th>features</th>\n",
       "      <th>counts</th>\n",
       "    </tr>\n",
       "  </thead>\n",
       "  <tbody>\n",
       "    <tr>\n",
       "      <th>0</th>\n",
       "      <td>aa</td>\n",
       "      <td>5</td>\n",
       "    </tr>\n",
       "    <tr>\n",
       "      <th>1</th>\n",
       "      <td>aaa</td>\n",
       "      <td>4</td>\n",
       "    </tr>\n",
       "    <tr>\n",
       "      <th>2</th>\n",
       "      <td>aaaaahhhh</td>\n",
       "      <td>1</td>\n",
       "    </tr>\n",
       "    <tr>\n",
       "      <th>3</th>\n",
       "      <td>aaaarrgh</td>\n",
       "      <td>1</td>\n",
       "    </tr>\n",
       "    <tr>\n",
       "      <th>4</th>\n",
       "      <td>aaaggghhhhhhh</td>\n",
       "      <td>1</td>\n",
       "    </tr>\n",
       "    <tr>\n",
       "      <th>...</th>\n",
       "      <td>...</td>\n",
       "      <td>...</td>\n",
       "    </tr>\n",
       "    <tr>\n",
       "      <th>54131</th>\n",
       "      <td>zzzzzzzzzzzzz</td>\n",
       "      <td>1</td>\n",
       "    </tr>\n",
       "    <tr>\n",
       "      <th>54132</th>\n",
       "      <td>zzzzzzzzzzzzzzzzzz</td>\n",
       "      <td>1</td>\n",
       "    </tr>\n",
       "    <tr>\n",
       "      <th>54133</th>\n",
       "      <td>zzzzzzzzzzzzzzzzzzzzzzzzzzzzzzz</td>\n",
       "      <td>1</td>\n",
       "    </tr>\n",
       "    <tr>\n",
       "      <th>54134</th>\n",
       "      <td>zzzzzzzzzzzzzzzzzzzzzzzzzzzzzzzzzzzzzzzzz</td>\n",
       "      <td>1</td>\n",
       "    </tr>\n",
       "    <tr>\n",
       "      <th>54135</th>\n",
       "      <td>zzzzzzzzzzzzzzzzzzzzzzzzzzzzzzzzzzzzzzzzzzzz</td>\n",
       "      <td>1</td>\n",
       "    </tr>\n",
       "  </tbody>\n",
       "</table>\n",
       "<p>54136 rows × 2 columns</p>\n",
       "</div>"
      ],
      "text/plain": [
       "                                           features  counts\n",
       "0                                                aa       5\n",
       "1                                               aaa       4\n",
       "2                                         aaaaahhhh       1\n",
       "3                                          aaaarrgh       1\n",
       "4                                     aaaggghhhhhhh       1\n",
       "...                                             ...     ...\n",
       "54131                                 zzzzzzzzzzzzz       1\n",
       "54132                            zzzzzzzzzzzzzzzzzz       1\n",
       "54133               zzzzzzzzzzzzzzzzzzzzzzzzzzzzzzz       1\n",
       "54134     zzzzzzzzzzzzzzzzzzzzzzzzzzzzzzzzzzzzzzzzz       1\n",
       "54135  zzzzzzzzzzzzzzzzzzzzzzzzzzzzzzzzzzzzzzzzzzzz       1\n",
       "\n",
       "[54136 rows x 2 columns]"
      ]
     },
     "execution_count": 36,
     "metadata": {},
     "output_type": "execute_result"
    }
   ],
   "source": [
    "featurecountdf"
   ]
  },
  {
   "cell_type": "code",
   "execution_count": 37,
   "id": "3fc98a9d",
   "metadata": {
    "scrolled": true
   },
   "outputs": [
    {
     "data": {
      "text/plain": [
       "20628"
      ]
     },
     "execution_count": 37,
     "metadata": {},
     "output_type": "execute_result"
    }
   ],
   "source": [
    "len(featurecountdf[featurecountdf.counts == 1])#checking count of words that occured only once"
   ]
  },
  {
   "cell_type": "markdown",
   "id": "1675853d",
   "metadata": {},
   "source": [
    "# performing bag of words"
   ]
  },
  {
   "cell_type": "code",
   "execution_count": 38,
   "id": "ca9225de",
   "metadata": {},
   "outputs": [],
   "source": [
    "cv = CountVectorizer(stop_words= 'english', max_features= 5000)"
   ]
  },
  {
   "cell_type": "code",
   "execution_count": 39,
   "id": "0ba1e5d6",
   "metadata": {},
   "outputs": [],
   "source": [
    "X = cv.fit_transform(corpus).toarray()"
   ]
  },
  {
   "cell_type": "markdown",
   "id": "f943a154",
   "metadata": {},
   "source": [
    "# splitting the dataset into train and test"
   ]
  },
  {
   "cell_type": "code",
   "execution_count": 40,
   "id": "19cbcb17",
   "metadata": {},
   "outputs": [],
   "source": [
    "from sklearn.model_selection import train_test_split"
   ]
  },
  {
   "cell_type": "code",
   "execution_count": 41,
   "id": "2de298cf",
   "metadata": {},
   "outputs": [],
   "source": [
    "X_train, X_test, y_train, y_test = train_test_split(X, Y, test_size= 0.3, random_state= 42)"
   ]
  },
  {
   "cell_type": "markdown",
   "id": "45b175ee",
   "metadata": {},
   "source": [
    "# performing modeling"
   ]
  },
  {
   "cell_type": "code",
   "execution_count": 43,
   "id": "75a048a5",
   "metadata": {},
   "outputs": [],
   "source": [
    "from sklearn.naive_bayes import MultinomialNB"
   ]
  },
  {
   "cell_type": "code",
   "execution_count": 44,
   "id": "973e86c4",
   "metadata": {},
   "outputs": [],
   "source": [
    "mnb = MultinomialNB()\n",
    "sentiment_detection_model = mnb.fit(X_train, y_train)"
   ]
  },
  {
   "cell_type": "code",
   "execution_count": 45,
   "id": "1cb56a72",
   "metadata": {},
   "outputs": [],
   "source": [
    "#prediciton\n",
    "y_pred = sentiment_detection_model.predict(X_test)"
   ]
  },
  {
   "cell_type": "code",
   "execution_count": 46,
   "id": "eeb6c63a",
   "metadata": {},
   "outputs": [],
   "source": [
    "from sklearn.metrics import accuracy_score, classification_report"
   ]
  },
  {
   "cell_type": "code",
   "execution_count": 47,
   "id": "14f12ad4",
   "metadata": {},
   "outputs": [
    {
     "name": "stdout",
     "output_type": "stream",
     "text": [
      "0.8395555555555556\n"
     ]
    }
   ],
   "source": [
    "score = accuracy_score(y_test, y_pred)\n",
    "print(score)"
   ]
  },
  {
   "cell_type": "code",
   "execution_count": 48,
   "id": "602dba4d",
   "metadata": {
    "scrolled": true
   },
   "outputs": [
    {
     "name": "stdout",
     "output_type": "stream",
     "text": [
      "              precision    recall  f1-score   support\n",
      "\n",
      "           0       0.85      0.83      0.84      2293\n",
      "           1       0.83      0.85      0.84      2207\n",
      "\n",
      "    accuracy                           0.84      4500\n",
      "   macro avg       0.84      0.84      0.84      4500\n",
      "weighted avg       0.84      0.84      0.84      4500\n",
      "\n"
     ]
    }
   ],
   "source": [
    "print(classification_report(y_pred, y_test))"
   ]
  },
  {
   "cell_type": "code",
   "execution_count": 50,
   "id": "78f61d91",
   "metadata": {},
   "outputs": [],
   "source": [
    "from sklearn.metrics import confusion_matrix"
   ]
  },
  {
   "cell_type": "code",
   "execution_count": 51,
   "id": "d0e04c05",
   "metadata": {},
   "outputs": [],
   "source": [
    "cm = confusion_matrix(y_test, y_pred)"
   ]
  },
  {
   "cell_type": "code",
   "execution_count": 52,
   "id": "76eb56ef",
   "metadata": {
    "scrolled": true
   },
   "outputs": [
    {
     "data": {
      "text/plain": [
       "Text(0.5, 23.52222222222222, 'Predicted Label')"
      ]
     },
     "execution_count": 52,
     "metadata": {},
     "output_type": "execute_result"
    },
    {
     "data": {
      "image/png": "[encoded data removed]",
      "text/plain": [
       "<Figure size 640x480 with 2 Axes>"
      ]
     },
     "metadata": {},
     "output_type": "display_data"
    }
   ],
   "source": [
    "sn.heatmap(cm, annot= True, fmt= '.2f')\n",
    "plt.ylabel('True Label')\n",
    "plt.xlabel('Predicted Label')\n",
    "#confusion_matrix shows the true and predicted values are having more accurate numbers"
   ]
  },
  {
   "cell_type": "code",
   "execution_count": 57,
   "id": "6da79e81",
   "metadata": {},
   "outputs": [],
   "source": [
    "from sklearn.metrics import roc_curve, auc"
   ]
  },
  {
   "cell_type": "code",
   "execution_count": 55,
   "id": "3cf9c566",
   "metadata": {},
   "outputs": [],
   "source": [
    "import matplotlib.pyplot as plt\n",
    "import seaborn as sn\n",
    "%matplotlib inline"
   ]
  },
  {
   "cell_type": "code",
   "execution_count": 58,
   "id": "04f0dd21",
   "metadata": {
    "scrolled": false
   },
   "outputs": [
    {
     "name": "stderr",
     "output_type": "stream",
     "text": [
      "/var/folders/3q/2bh9znv97bl09382p2y_xj9m0000gn/T/ipykernel_3905/1878658684.py:4: UserWarning: color is redundantly defined by the 'color' keyword argument and the fmt string \"k--\" (-> color='k'). The keyword argument will take precedence.\n",
      "  plt.plot(fpr, tpr, 'k--', color = 'red', label = 'ROC Curve = (are = {0:.2f})'.format(roc_auc), lw = 2)\n"
     ]
    },
    {
     "data": {
      "image/png": "[encoded data removed]",
      "text/plain": [
       "<Figure size 640x480 with 1 Axes>"
      ]
     },
     "metadata": {},
     "output_type": "display_data"
    }
   ],
   "source": [
    "fpr, tpr, threshold = roc_curve(y_test, y_pred)\n",
    "roc_auc = auc(fpr, tpr)\n",
    "plt.figure()\n",
    "plt.plot(fpr, tpr, 'k--', color = 'red', label = 'ROC Curve = (are = {0:.2f})'.format(roc_auc), lw = 2)\n",
    "plt.plot([0, 1], [0, 1], color='black', lw=2, linestyle='-')\n",
    "plt.xlim([-0.05, 1.05])\n",
    "plt.ylim([-0.05, 1.05])\n",
    "plt.xlabel('False Positive Rate')\n",
    "plt.ylabel('True Positive Rate')\n",
    "plt.title('ROC Curve')\n",
    "plt.legend(loc='lower right')\n",
    "plt.show()"
   ]
  },
  {
   "cell_type": "markdown",
   "id": "cfe73be5",
   "metadata": {},
   "source": [
    "# testing with reviews"
   ]
  },
  {
   "cell_type": "code",
   "execution_count": 65,
   "id": "72b850d7",
   "metadata": {},
   "outputs": [],
   "source": [
    "def split_words(words):\n",
    "    review = re.sub('[^a-zA-Z]', ' ', words)\n",
    "    review = review.lower()\n",
    "    review = review.split()#extracting words out of a sentence that is tokens\n",
    "    review = [lemmatizer.lemmatize(word) for word in review if not word in stopwords.words('english')]\n",
    "    review = ' '.join(review)#re joining words or tokens to create a sentence\n",
    "    return review"
   ]
  },
  {
   "cell_type": "code",
   "execution_count": 78,
   "id": "027f9743",
   "metadata": {},
   "outputs": [],
   "source": [
    "testreview = {\"It is this combination of maximalism, nationalism, fatalism, and two-dimensional characterization that makes this one of the most enjoyable current franchises.\":\"positive\",\n",
    "             \"Disappointingly, the film’s female characters are given precious little to do beyond dying in order to motivate the male protagonists, and in many ways, this is ultimately a story about fathers making sacrifices for the sake of their children.\":\"negative\",\n",
    "             \"In sci-fi terms, The Wandering Earth II feels less obviously derivative of Hollywood forerunners than its predecessor, raising a number of intriguing themes and engaging with them intellectually. It marks another confident leap forward for China’s ambitions to explore the genre and its infinite universe of possibilities.\":\"positive\"}\n",
    "clean_review = []\n",
    "\n",
    "for i in testreview.keys():\n",
    "    clean_review.append(split_words(i))\n",
    "vector_comment = cv.transform(clean_review)\n",
    "vector_comment = vector_comment.toarray()"
   ]
  },
  {
   "cell_type": "code",
   "execution_count": 79,
   "id": "180fe200",
   "metadata": {},
   "outputs": [],
   "source": [
    "predict = sentiment_detection_model.predict(vector_comment)\n",
    "result = {1: 'positive', 0: 'negative'}\n",
    "values = list(testreview.values())"
   ]
  },
  {
   "cell_type": "code",
   "execution_count": 86,
   "id": "a1fb2789",
   "metadata": {},
   "outputs": [
    {
     "name": "stdout",
     "output_type": "stream",
     "text": [
      "comment num \tpredict \treal\n",
      "comment 1 \tnegative \tpositive\n",
      "comment 2 \tnegative \tnegative\n",
      "comment 3 \tpositive \tpositive\n"
     ]
    }
   ],
   "source": [
    "print(\"comment num \\tpredict \\treal\")\n",
    "for i, val in enumerate(predict):\n",
    "    print(f\"comment {i+1} \\t{result[val]} \\t{values[i]}\")"
   ]
  }
 ],
 "metadata": {
  "kernelspec": {
   "display_name": "Python 3 (ipykernel)",
   "language": "python",
   "name": "python3"
  },
  "language_info": {
   "codemirror_mode": {
    "name": "ipython",
    "version": 3
   },
   "file_extension": ".py",
   "mimetype": "text/x-python",
   "name": "python",
   "nbconvert_exporter": "python",
   "pygments_lexer": "ipython3",
   "version": "3.9.13"
  }
 },
 "nbformat": 4,
 "nbformat_minor": 5
}
