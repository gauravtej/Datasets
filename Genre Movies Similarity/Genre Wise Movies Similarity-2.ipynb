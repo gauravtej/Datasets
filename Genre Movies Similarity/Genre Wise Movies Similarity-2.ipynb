{
 "cells": [
  {
   "cell_type": "code",
   "execution_count": 1,
   "id": "e534ab0e",
   "metadata": {},
   "outputs": [],
   "source": [
    "import pandas as pd \n",
    "import numpy as np"
   ]
  },
  {
   "cell_type": "code",
   "execution_count": 2,
   "id": "81835c17",
   "metadata": {},
   "outputs": [],
   "source": [
    "movies_df = pd.read_csv('movies.csv')"
   ]
  },
  {
   "cell_type": "code",
   "execution_count": 3,
   "id": "3c25df6a",
   "metadata": {},
   "outputs": [
    {
     "name": "stdout",
     "output_type": "stream",
     "text": [
      "<class 'pandas.core.frame.DataFrame'>\n",
      "RangeIndex: 9742 entries, 0 to 9741\n",
      "Data columns (total 3 columns):\n",
      " #   Column   Non-Null Count  Dtype \n",
      "---  ------   --------------  ----- \n",
      " 0   movieId  9742 non-null   int64 \n",
      " 1   title    9742 non-null   object\n",
      " 2   genres   9742 non-null   object\n",
      "dtypes: int64(1), object(2)\n",
      "memory usage: 228.5+ KB\n"
     ]
    }
   ],
   "source": [
    "movies_df.info()"
   ]
  },
  {
   "cell_type": "code",
   "execution_count": 4,
   "id": "84eab377",
   "metadata": {},
   "outputs": [],
   "source": [
    "action_df = movies_df[movies_df['genres'] == 'Action'].reset_index()#selecting only action genre"
   ]
  },
  {
   "cell_type": "code",
   "execution_count": 5,
   "id": "428857d5",
   "metadata": {},
   "outputs": [
    {
     "name": "stdout",
     "output_type": "stream",
     "text": [
      "<class 'pandas.core.frame.DataFrame'>\n",
      "RangeIndex: 60 entries, 0 to 59\n",
      "Data columns (total 4 columns):\n",
      " #   Column   Non-Null Count  Dtype \n",
      "---  ------   --------------  ----- \n",
      " 0   index    60 non-null     int64 \n",
      " 1   movieId  60 non-null     int64 \n",
      " 2   title    60 non-null     object\n",
      " 3   genres   60 non-null     object\n",
      "dtypes: int64(2), object(2)\n",
      "memory usage: 2.0+ KB\n"
     ]
    }
   ],
   "source": [
    "action_df.info()"
   ]
  },
  {
   "cell_type": "code",
   "execution_count": 6,
   "id": "4f98db89",
   "metadata": {},
   "outputs": [
    {
     "data": {
      "text/html": [
       "<div>\n",
       "<style scoped>\n",
       "    .dataframe tbody tr th:only-of-type {\n",
       "        vertical-align: middle;\n",
       "    }\n",
       "\n",
       "    .dataframe tbody tr th {\n",
       "        vertical-align: top;\n",
       "    }\n",
       "\n",
       "    .dataframe thead th {\n",
       "        text-align: right;\n",
       "    }\n",
       "</style>\n",
       "<table border=\"1\" class=\"dataframe\">\n",
       "  <thead>\n",
       "    <tr style=\"text-align: right;\">\n",
       "      <th></th>\n",
       "      <th>index</th>\n",
       "      <th>movieId</th>\n",
       "      <th>title</th>\n",
       "      <th>genres</th>\n",
       "    </tr>\n",
       "  </thead>\n",
       "  <tbody>\n",
       "    <tr>\n",
       "      <th>0</th>\n",
       "      <td>8</td>\n",
       "      <td>9</td>\n",
       "      <td>Sudden Death (1995)</td>\n",
       "      <td>Action</td>\n",
       "    </tr>\n",
       "    <tr>\n",
       "      <th>1</th>\n",
       "      <td>63</td>\n",
       "      <td>71</td>\n",
       "      <td>Fair Game (1995)</td>\n",
       "      <td>Action</td>\n",
       "    </tr>\n",
       "    <tr>\n",
       "      <th>2</th>\n",
       "      <td>172</td>\n",
       "      <td>204</td>\n",
       "      <td>Under Siege 2: Dark Territory (1995)</td>\n",
       "      <td>Action</td>\n",
       "    </tr>\n",
       "    <tr>\n",
       "      <th>3</th>\n",
       "      <td>215</td>\n",
       "      <td>251</td>\n",
       "      <td>Hunted, The (1995)</td>\n",
       "      <td>Action</td>\n",
       "    </tr>\n",
       "    <tr>\n",
       "      <th>4</th>\n",
       "      <td>555</td>\n",
       "      <td>667</td>\n",
       "      <td>Bloodsport 2 (a.k.a. Bloodsport II: The Next K...</td>\n",
       "      <td>Action</td>\n",
       "    </tr>\n",
       "  </tbody>\n",
       "</table>\n",
       "</div>"
      ],
      "text/plain": [
       "   index  movieId                                              title  genres\n",
       "0      8        9                                Sudden Death (1995)  Action\n",
       "1     63       71                                   Fair Game (1995)  Action\n",
       "2    172      204               Under Siege 2: Dark Territory (1995)  Action\n",
       "3    215      251                                 Hunted, The (1995)  Action\n",
       "4    555      667  Bloodsport 2 (a.k.a. Bloodsport II: The Next K...  Action"
      ]
     },
     "execution_count": 6,
     "metadata": {},
     "output_type": "execute_result"
    }
   ],
   "source": [
    "action_df.head(5)"
   ]
  },
  {
   "cell_type": "code",
   "execution_count": 7,
   "id": "501e7ceb",
   "metadata": {},
   "outputs": [],
   "source": [
    "action_df.drop('genres', axis= 1, inplace= True)"
   ]
  },
  {
   "cell_type": "code",
   "execution_count": 8,
   "id": "3adfc289",
   "metadata": {},
   "outputs": [
    {
     "name": "stdout",
     "output_type": "stream",
     "text": [
      "<class 'pandas.core.frame.DataFrame'>\n",
      "RangeIndex: 60 entries, 0 to 59\n",
      "Data columns (total 3 columns):\n",
      " #   Column   Non-Null Count  Dtype \n",
      "---  ------   --------------  ----- \n",
      " 0   index    60 non-null     int64 \n",
      " 1   movieId  60 non-null     int64 \n",
      " 2   title    60 non-null     object\n",
      "dtypes: int64(2), object(1)\n",
      "memory usage: 1.5+ KB\n"
     ]
    }
   ],
   "source": [
    "action_df.info()"
   ]
  },
  {
   "cell_type": "code",
   "execution_count": 9,
   "id": "2e18e605",
   "metadata": {},
   "outputs": [
    {
     "name": "stdout",
     "output_type": "stream",
     "text": [
      "<class 'pandas.core.frame.DataFrame'>\n",
      "RangeIndex: 100836 entries, 0 to 100835\n",
      "Data columns (total 4 columns):\n",
      " #   Column     Non-Null Count   Dtype  \n",
      "---  ------     --------------   -----  \n",
      " 0   userId     100836 non-null  int64  \n",
      " 1   movieId    100836 non-null  int64  \n",
      " 2   rating     100836 non-null  float64\n",
      " 3   timestamp  100836 non-null  int64  \n",
      "dtypes: float64(1), int64(3)\n",
      "memory usage: 3.1 MB\n"
     ]
    }
   ],
   "source": [
    "ratings_df = pd.read_csv('ratings.csv')\n",
    "ratings_df.info()"
   ]
  },
  {
   "cell_type": "code",
   "execution_count": 10,
   "id": "0f34f38f",
   "metadata": {},
   "outputs": [],
   "source": [
    "ratings_df.drop('timestamp', axis= 1, inplace= True)"
   ]
  },
  {
   "cell_type": "code",
   "execution_count": 11,
   "id": "bf350dde",
   "metadata": {},
   "outputs": [],
   "source": [
    "movie_df = ratings_df.pivot(index= 'movieId', columns= 'userId', \n",
    "                                 values= 'rating').reset_index(drop= True)"
   ]
  },
  {
   "cell_type": "code",
   "execution_count": 12,
   "id": "7ab8531b",
   "metadata": {},
   "outputs": [],
   "source": [
    "movie_df.fillna(0, inplace= True)"
   ]
  },
  {
   "cell_type": "code",
   "execution_count": 13,
   "id": "15416da1",
   "metadata": {},
   "outputs": [],
   "source": [
    "movie_df.index = ratings_df.movieId.unique()"
   ]
  },
  {
   "cell_type": "code",
   "execution_count": 14,
   "id": "be0b0550",
   "metadata": {},
   "outputs": [
    {
     "data": {
      "text/html": [
       "<div>\n",
       "<style scoped>\n",
       "    .dataframe tbody tr th:only-of-type {\n",
       "        vertical-align: middle;\n",
       "    }\n",
       "\n",
       "    .dataframe tbody tr th {\n",
       "        vertical-align: top;\n",
       "    }\n",
       "\n",
       "    .dataframe thead th {\n",
       "        text-align: right;\n",
       "    }\n",
       "</style>\n",
       "<table border=\"1\" class=\"dataframe\">\n",
       "  <thead>\n",
       "    <tr style=\"text-align: right;\">\n",
       "      <th>userId</th>\n",
       "      <th>1</th>\n",
       "      <th>2</th>\n",
       "      <th>3</th>\n",
       "      <th>4</th>\n",
       "      <th>5</th>\n",
       "    </tr>\n",
       "  </thead>\n",
       "  <tbody>\n",
       "    <tr>\n",
       "      <th>1</th>\n",
       "      <td>4.0</td>\n",
       "      <td>0.0</td>\n",
       "      <td>0.0</td>\n",
       "      <td>0.0</td>\n",
       "      <td>4.0</td>\n",
       "    </tr>\n",
       "    <tr>\n",
       "      <th>3</th>\n",
       "      <td>0.0</td>\n",
       "      <td>0.0</td>\n",
       "      <td>0.0</td>\n",
       "      <td>0.0</td>\n",
       "      <td>0.0</td>\n",
       "    </tr>\n",
       "    <tr>\n",
       "      <th>6</th>\n",
       "      <td>4.0</td>\n",
       "      <td>0.0</td>\n",
       "      <td>0.0</td>\n",
       "      <td>0.0</td>\n",
       "      <td>0.0</td>\n",
       "    </tr>\n",
       "    <tr>\n",
       "      <th>47</th>\n",
       "      <td>0.0</td>\n",
       "      <td>0.0</td>\n",
       "      <td>0.0</td>\n",
       "      <td>0.0</td>\n",
       "      <td>0.0</td>\n",
       "    </tr>\n",
       "    <tr>\n",
       "      <th>50</th>\n",
       "      <td>0.0</td>\n",
       "      <td>0.0</td>\n",
       "      <td>0.0</td>\n",
       "      <td>0.0</td>\n",
       "      <td>0.0</td>\n",
       "    </tr>\n",
       "  </tbody>\n",
       "</table>\n",
       "</div>"
      ],
      "text/plain": [
       "userId    1    2    3    4    5\n",
       "1       4.0  0.0  0.0  0.0  4.0\n",
       "3       0.0  0.0  0.0  0.0  0.0\n",
       "6       4.0  0.0  0.0  0.0  0.0\n",
       "47      0.0  0.0  0.0  0.0  0.0\n",
       "50      0.0  0.0  0.0  0.0  0.0"
      ]
     },
     "execution_count": 14,
     "metadata": {},
     "output_type": "execute_result"
    }
   ],
   "source": [
    "movie_df.iloc[0:5, 0:5] "
   ]
  },
  {
   "cell_type": "code",
   "execution_count": 15,
   "id": "fdab3c68",
   "metadata": {},
   "outputs": [],
   "source": [
    "movie_df.fillna(0, inplace= True)"
   ]
  },
  {
   "cell_type": "code",
   "execution_count": 16,
   "id": "aa7013cf",
   "metadata": {},
   "outputs": [],
   "source": [
    "from sklearn.metrics import pairwise_distances\n",
    "from scipy.spatial.distance import cosine, correlation"
   ]
  },
  {
   "cell_type": "code",
   "execution_count": 17,
   "id": "dce6423c",
   "metadata": {},
   "outputs": [],
   "source": [
    "movie_sim = 1 - pairwise_distances(movie_df.values, metric= 'correlation')"
   ]
  },
  {
   "cell_type": "code",
   "execution_count": 18,
   "id": "afbd0ce0",
   "metadata": {},
   "outputs": [],
   "source": [
    "movie_sim_df = pd.DataFrame(movie_sim)"
   ]
  },
  {
   "cell_type": "code",
   "execution_count": 19,
   "id": "eb2d7f9b",
   "metadata": {},
   "outputs": [
    {
     "data": {
      "text/html": [
       "<div>\n",
       "<style scoped>\n",
       "    .dataframe tbody tr th:only-of-type {\n",
       "        vertical-align: middle;\n",
       "    }\n",
       "\n",
       "    .dataframe tbody tr th {\n",
       "        vertical-align: top;\n",
       "    }\n",
       "\n",
       "    .dataframe thead th {\n",
       "        text-align: right;\n",
       "    }\n",
       "</style>\n",
       "<table border=\"1\" class=\"dataframe\">\n",
       "  <thead>\n",
       "    <tr style=\"text-align: right;\">\n",
       "      <th></th>\n",
       "      <th>0</th>\n",
       "      <th>1</th>\n",
       "      <th>2</th>\n",
       "      <th>3</th>\n",
       "      <th>4</th>\n",
       "    </tr>\n",
       "  </thead>\n",
       "  <tbody>\n",
       "    <tr>\n",
       "      <th>0</th>\n",
       "      <td>1.000000</td>\n",
       "      <td>0.231327</td>\n",
       "      <td>0.173213</td>\n",
       "      <td>-0.028917</td>\n",
       "      <td>0.192474</td>\n",
       "    </tr>\n",
       "    <tr>\n",
       "      <th>1</th>\n",
       "      <td>0.231327</td>\n",
       "      <td>1.000000</td>\n",
       "      <td>0.191945</td>\n",
       "      <td>0.071269</td>\n",
       "      <td>0.200526</td>\n",
       "    </tr>\n",
       "    <tr>\n",
       "      <th>2</th>\n",
       "      <td>0.173213</td>\n",
       "      <td>0.191945</td>\n",
       "      <td>1.000000</td>\n",
       "      <td>0.067143</td>\n",
       "      <td>0.370171</td>\n",
       "    </tr>\n",
       "    <tr>\n",
       "      <th>3</th>\n",
       "      <td>-0.028917</td>\n",
       "      <td>0.071269</td>\n",
       "      <td>0.067143</td>\n",
       "      <td>1.000000</td>\n",
       "      <td>0.167910</td>\n",
       "    </tr>\n",
       "    <tr>\n",
       "      <th>4</th>\n",
       "      <td>0.192474</td>\n",
       "      <td>0.200526</td>\n",
       "      <td>0.370171</td>\n",
       "      <td>0.167910</td>\n",
       "      <td>1.000000</td>\n",
       "    </tr>\n",
       "  </tbody>\n",
       "</table>\n",
       "</div>"
      ],
      "text/plain": [
       "          0         1         2         3         4\n",
       "0  1.000000  0.231327  0.173213 -0.028917  0.192474\n",
       "1  0.231327  1.000000  0.191945  0.071269  0.200526\n",
       "2  0.173213  0.191945  1.000000  0.067143  0.370171\n",
       "3 -0.028917  0.071269  0.067143  1.000000  0.167910\n",
       "4  0.192474  0.200526  0.370171  0.167910  1.000000"
      ]
     },
     "execution_count": 19,
     "metadata": {},
     "output_type": "execute_result"
    }
   ],
   "source": [
    "movie_sim_df.iloc[0:5, 0:5]"
   ]
  },
  {
   "cell_type": "code",
   "execution_count": 20,
   "id": "781353bc",
   "metadata": {},
   "outputs": [],
   "source": [
    "def get_similar_movies(movieid, topn = 5):\n",
    "    movieidx = action_df[action_df.movieId == movieid].index[0]\n",
    "    action_df['similarity'] = movie_sim_df.iloc[movieidx]\n",
    "    top_n = action_df.sort_values(['similarity'], ascending = False)[0:topn]\n",
    "    return top_n"
   ]
  },
  {
   "cell_type": "code",
   "execution_count": 21,
   "id": "96e5f42e",
   "metadata": {},
   "outputs": [
    {
     "data": {
      "text/html": [
       "<div>\n",
       "<style scoped>\n",
       "    .dataframe tbody tr th:only-of-type {\n",
       "        vertical-align: middle;\n",
       "    }\n",
       "\n",
       "    .dataframe tbody tr th {\n",
       "        vertical-align: top;\n",
       "    }\n",
       "\n",
       "    .dataframe thead th {\n",
       "        text-align: right;\n",
       "    }\n",
       "</style>\n",
       "<table border=\"1\" class=\"dataframe\">\n",
       "  <thead>\n",
       "    <tr style=\"text-align: right;\">\n",
       "      <th></th>\n",
       "      <th>index</th>\n",
       "      <th>movieId</th>\n",
       "      <th>title</th>\n",
       "      <th>similarity</th>\n",
       "    </tr>\n",
       "  </thead>\n",
       "  <tbody>\n",
       "    <tr>\n",
       "      <th>1</th>\n",
       "      <td>63</td>\n",
       "      <td>71</td>\n",
       "      <td>Fair Game (1995)</td>\n",
       "      <td>1.000000</td>\n",
       "    </tr>\n",
       "    <tr>\n",
       "      <th>18</th>\n",
       "      <td>3345</td>\n",
       "      <td>4531</td>\n",
       "      <td>Red Heat (1988)</td>\n",
       "      <td>0.412808</td>\n",
       "    </tr>\n",
       "    <tr>\n",
       "      <th>44</th>\n",
       "      <td>7208</td>\n",
       "      <td>72874</td>\n",
       "      <td>Peacekeeper, The (1997)</td>\n",
       "      <td>0.333349</td>\n",
       "    </tr>\n",
       "    <tr>\n",
       "      <th>32</th>\n",
       "      <td>4379</td>\n",
       "      <td>6417</td>\n",
       "      <td>Live Wire (1992)</td>\n",
       "      <td>0.332326</td>\n",
       "    </tr>\n",
       "    <tr>\n",
       "      <th>9</th>\n",
       "      <td>1910</td>\n",
       "      <td>2534</td>\n",
       "      <td>Avalanche (1978)</td>\n",
       "      <td>0.285086</td>\n",
       "    </tr>\n",
       "  </tbody>\n",
       "</table>\n",
       "</div>"
      ],
      "text/plain": [
       "    index  movieId                    title  similarity\n",
       "1      63       71         Fair Game (1995)    1.000000\n",
       "18   3345     4531          Red Heat (1988)    0.412808\n",
       "44   7208    72874  Peacekeeper, The (1997)    0.333349\n",
       "32   4379     6417         Live Wire (1992)    0.332326\n",
       "9    1910     2534         Avalanche (1978)    0.285086"
      ]
     },
     "execution_count": 21,
     "metadata": {},
     "output_type": "execute_result"
    }
   ],
   "source": [
    "get_similar_movies(71, topn= 5)"
   ]
  },
  {
   "cell_type": "code",
   "execution_count": 22,
   "id": "9350c0b4",
   "metadata": {
    "scrolled": true
   },
   "outputs": [
    {
     "data": {
      "text/html": [
       "<div>\n",
       "<style scoped>\n",
       "    .dataframe tbody tr th:only-of-type {\n",
       "        vertical-align: middle;\n",
       "    }\n",
       "\n",
       "    .dataframe tbody tr th {\n",
       "        vertical-align: top;\n",
       "    }\n",
       "\n",
       "    .dataframe thead th {\n",
       "        text-align: right;\n",
       "    }\n",
       "</style>\n",
       "<table border=\"1\" class=\"dataframe\">\n",
       "  <thead>\n",
       "    <tr style=\"text-align: right;\">\n",
       "      <th></th>\n",
       "      <th>movieId</th>\n",
       "      <th>title</th>\n",
       "      <th>genres</th>\n",
       "    </tr>\n",
       "  </thead>\n",
       "  <tbody>\n",
       "    <tr>\n",
       "      <th>301</th>\n",
       "      <td>343</td>\n",
       "      <td>Baby-Sitters Club, The (1995)</td>\n",
       "      <td>Children</td>\n",
       "    </tr>\n",
       "    <tr>\n",
       "      <th>1097</th>\n",
       "      <td>1426</td>\n",
       "      <td>Zeus and Roxanne (1997)</td>\n",
       "      <td>Children</td>\n",
       "    </tr>\n",
       "    <tr>\n",
       "      <th>6973</th>\n",
       "      <td>66335</td>\n",
       "      <td>Afro Samurai: Resurrection (2009)</td>\n",
       "      <td>Animation</td>\n",
       "    </tr>\n",
       "    <tr>\n",
       "      <th>7059</th>\n",
       "      <td>69469</td>\n",
       "      <td>Garfield's Pet Force (2009)</td>\n",
       "      <td>Animation</td>\n",
       "    </tr>\n",
       "    <tr>\n",
       "      <th>7195</th>\n",
       "      <td>72603</td>\n",
       "      <td>Merry Madagascar (2009)</td>\n",
       "      <td>Animation</td>\n",
       "    </tr>\n",
       "  </tbody>\n",
       "</table>\n",
       "</div>"
      ],
      "text/plain": [
       "      movieId                              title     genres\n",
       "301       343      Baby-Sitters Club, The (1995)   Children\n",
       "1097     1426            Zeus and Roxanne (1997)   Children\n",
       "6973    66335  Afro Samurai: Resurrection (2009)  Animation\n",
       "7059    69469        Garfield's Pet Force (2009)  Animation\n",
       "7195    72603            Merry Madagascar (2009)  Animation"
      ]
     },
     "execution_count": 22,
     "metadata": {},
     "output_type": "execute_result"
    }
   ],
   "source": [
    "animation_children_df = movies_df[(movies_df['genres'] == 'Animation') |\n",
    "                                 (movies_df['genres'] == 'Children')]\n",
    "animation_children_df.head(5)"
   ]
  },
  {
   "cell_type": "code",
   "execution_count": 23,
   "id": "5b15c55e",
   "metadata": {},
   "outputs": [],
   "source": [
    "def get_similar_movies(movieid, topn= 5):\n",
    "    movieidx = animation_children_df[animation_children_df.movieId == movieid].index[0]\n",
    "    animation_children_df['similarity'] = movie_sim_df.iloc[movieidx]\n",
    "    top_n = animation_children_df.sort_values(['similarity'], ascending= False)[0:topn]\n",
    "    return top_n"
   ]
  },
  {
   "cell_type": "code",
   "execution_count": 24,
   "id": "0e3b6685",
   "metadata": {
    "scrolled": true
   },
   "outputs": [
    {
     "name": "stderr",
     "output_type": "stream",
     "text": [
      "/var/folders/3q/2bh9znv97bl09382p2y_xj9m0000gn/T/ipykernel_3544/2739994426.py:3: SettingWithCopyWarning: \n",
      "A value is trying to be set on a copy of a slice from a DataFrame.\n",
      "Try using .loc[row_indexer,col_indexer] = value instead\n",
      "\n",
      "See the caveats in the documentation: https://pandas.pydata.org/pandas-docs/stable/user_guide/indexing.html#returning-a-view-versus-a-copy\n",
      "  animation_children_df['similarity'] = movie_sim_df.iloc[movieidx]\n"
     ]
    },
    {
     "data": {
      "text/html": [
       "<div>\n",
       "<style scoped>\n",
       "    .dataframe tbody tr th:only-of-type {\n",
       "        vertical-align: middle;\n",
       "    }\n",
       "\n",
       "    .dataframe tbody tr th {\n",
       "        vertical-align: top;\n",
       "    }\n",
       "\n",
       "    .dataframe thead th {\n",
       "        text-align: right;\n",
       "    }\n",
       "</style>\n",
       "<table border=\"1\" class=\"dataframe\">\n",
       "  <thead>\n",
       "    <tr style=\"text-align: right;\">\n",
       "      <th></th>\n",
       "      <th>movieId</th>\n",
       "      <th>title</th>\n",
       "      <th>genres</th>\n",
       "      <th>similarity</th>\n",
       "    </tr>\n",
       "  </thead>\n",
       "  <tbody>\n",
       "    <tr>\n",
       "      <th>6973</th>\n",
       "      <td>66335</td>\n",
       "      <td>Afro Samurai: Resurrection (2009)</td>\n",
       "      <td>Animation</td>\n",
       "      <td>1.000000</td>\n",
       "    </tr>\n",
       "    <tr>\n",
       "      <th>8593</th>\n",
       "      <td>117545</td>\n",
       "      <td>Asterix: The Land of the Gods (Astérix: Le dom...</td>\n",
       "      <td>Animation</td>\n",
       "      <td>1.000000</td>\n",
       "    </tr>\n",
       "    <tr>\n",
       "      <th>9539</th>\n",
       "      <td>172587</td>\n",
       "      <td>Vacations in Prostokvashino (1980)</td>\n",
       "      <td>Animation</td>\n",
       "      <td>0.490280</td>\n",
       "    </tr>\n",
       "    <tr>\n",
       "      <th>9601</th>\n",
       "      <td>176051</td>\n",
       "      <td>LEGO DC Super Hero Girls: Brain Drain (2017)</td>\n",
       "      <td>Animation</td>\n",
       "      <td>0.418148</td>\n",
       "    </tr>\n",
       "    <tr>\n",
       "      <th>7279</th>\n",
       "      <td>74791</td>\n",
       "      <td>Town Called Panic, A (Panique au village) (2009)</td>\n",
       "      <td>Animation</td>\n",
       "      <td>0.223780</td>\n",
       "    </tr>\n",
       "  </tbody>\n",
       "</table>\n",
       "</div>"
      ],
      "text/plain": [
       "      movieId                                              title     genres  \\\n",
       "6973    66335                  Afro Samurai: Resurrection (2009)  Animation   \n",
       "8593   117545  Asterix: The Land of the Gods (Astérix: Le dom...  Animation   \n",
       "9539   172587                 Vacations in Prostokvashino (1980)  Animation   \n",
       "9601   176051       LEGO DC Super Hero Girls: Brain Drain (2017)  Animation   \n",
       "7279    74791   Town Called Panic, A (Panique au village) (2009)  Animation   \n",
       "\n",
       "      similarity  \n",
       "6973    1.000000  \n",
       "8593    1.000000  \n",
       "9539    0.490280  \n",
       "9601    0.418148  \n",
       "7279    0.223780  "
      ]
     },
     "execution_count": 24,
     "metadata": {},
     "output_type": "execute_result"
    }
   ],
   "source": [
    "get_similar_movies(66335)"
   ]
  },
  {
   "cell_type": "code",
   "execution_count": 25,
   "id": "8584303a",
   "metadata": {},
   "outputs": [
    {
     "name": "stdout",
     "output_type": "stream",
     "text": [
      "<class 'pandas.core.frame.DataFrame'>\n",
      "Int64Index: 186 entries, 0 to 185\n",
      "Data columns (total 6 columns):\n",
      " #   Column      Non-Null Count  Dtype  \n",
      "---  ------      --------------  -----  \n",
      " 0   userId      186 non-null    int64  \n",
      " 1   movieId     186 non-null    int64  \n",
      " 2   rating      186 non-null    float64\n",
      " 3   index       186 non-null    int64  \n",
      " 4   title       186 non-null    object \n",
      " 5   similarity  186 non-null    float64\n",
      "dtypes: float64(2), int64(3), object(1)\n",
      "memory usage: 10.2+ KB\n"
     ]
    }
   ],
   "source": [
    "action_df_merged = ratings_df.merge(action_df, on= 'movieId', how= 'inner')\n",
    "action_df_merged.info()"
   ]
  },
  {
   "cell_type": "code",
   "execution_count": 24,
   "id": "a01ef27d",
   "metadata": {
    "scrolled": true
   },
   "outputs": [
    {
     "data": {
      "text/html": [
       "<div>\n",
       "<style scoped>\n",
       "    .dataframe tbody tr th:only-of-type {\n",
       "        vertical-align: middle;\n",
       "    }\n",
       "\n",
       "    .dataframe tbody tr th {\n",
       "        vertical-align: top;\n",
       "    }\n",
       "\n",
       "    .dataframe thead th {\n",
       "        text-align: right;\n",
       "    }\n",
       "</style>\n",
       "<table border=\"1\" class=\"dataframe\">\n",
       "  <thead>\n",
       "    <tr style=\"text-align: right;\">\n",
       "      <th></th>\n",
       "      <th>userId</th>\n",
       "      <th>movieId</th>\n",
       "      <th>rating</th>\n",
       "      <th>title</th>\n",
       "      <th>genres</th>\n",
       "    </tr>\n",
       "  </thead>\n",
       "  <tbody>\n",
       "    <tr>\n",
       "      <th>0</th>\n",
       "      <td>50</td>\n",
       "      <td>66335</td>\n",
       "      <td>2.5</td>\n",
       "      <td>Afro Samurai: Resurrection (2009)</td>\n",
       "      <td>Animation</td>\n",
       "    </tr>\n",
       "    <tr>\n",
       "      <th>1</th>\n",
       "      <td>50</td>\n",
       "      <td>81018</td>\n",
       "      <td>3.0</td>\n",
       "      <td>Illusionist, The (L'illusionniste) (2010)</td>\n",
       "      <td>Animation</td>\n",
       "    </tr>\n",
       "    <tr>\n",
       "      <th>2</th>\n",
       "      <td>298</td>\n",
       "      <td>81018</td>\n",
       "      <td>2.0</td>\n",
       "      <td>Illusionist, The (L'illusionniste) (2010)</td>\n",
       "      <td>Animation</td>\n",
       "    </tr>\n",
       "    <tr>\n",
       "      <th>3</th>\n",
       "      <td>318</td>\n",
       "      <td>81018</td>\n",
       "      <td>4.0</td>\n",
       "      <td>Illusionist, The (L'illusionniste) (2010)</td>\n",
       "      <td>Animation</td>\n",
       "    </tr>\n",
       "    <tr>\n",
       "      <th>4</th>\n",
       "      <td>89</td>\n",
       "      <td>69469</td>\n",
       "      <td>5.0</td>\n",
       "      <td>Garfield's Pet Force (2009)</td>\n",
       "      <td>Animation</td>\n",
       "    </tr>\n",
       "  </tbody>\n",
       "</table>\n",
       "</div>"
      ],
      "text/plain": [
       "   userId  movieId  rating                                      title  \\\n",
       "0      50    66335     2.5          Afro Samurai: Resurrection (2009)   \n",
       "1      50    81018     3.0  Illusionist, The (L'illusionniste) (2010)   \n",
       "2     298    81018     2.0  Illusionist, The (L'illusionniste) (2010)   \n",
       "3     318    81018     4.0  Illusionist, The (L'illusionniste) (2010)   \n",
       "4      89    69469     5.0                Garfield's Pet Force (2009)   \n",
       "\n",
       "      genres  \n",
       "0  Animation  \n",
       "1  Animation  \n",
       "2  Animation  \n",
       "3  Animation  \n",
       "4  Animation  "
      ]
     },
     "execution_count": 24,
     "metadata": {},
     "output_type": "execute_result"
    }
   ],
   "source": [
    "#animation_children_df = ratings_df.merge(animation_df, on= 'movieId', how= 'inner')\n",
    "#animation_df.head(5)"
   ]
  }
 ],
 "metadata": {
  "kernelspec": {
   "display_name": "Python 3 (ipykernel)",
   "language": "python",
   "name": "python3"
  },
  "language_info": {
   "codemirror_mode": {
    "name": "ipython",
    "version": 3
   },
   "file_extension": ".py",
   "mimetype": "text/x-python",
   "name": "python",
   "nbconvert_exporter": "python",
   "pygments_lexer": "ipython3",
   "version": "3.9.13"
  }
 },
 "nbformat": 4,
 "nbformat_minor": 5
}
