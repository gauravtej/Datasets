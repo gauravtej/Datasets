{
 "cells": [
  {
   "cell_type": "code",
   "execution_count": 21,
   "id": "f8ad3b9a",
   "metadata": {},
   "outputs": [],
   "source": [
    "import pandas as pd \n",
    "import numpy as np"
   ]
  },
  {
   "cell_type": "code",
   "execution_count": 22,
   "id": "60f705ca",
   "metadata": {},
   "outputs": [],
   "source": [
    "hr_df = pd.read_csv('hr_data.csv')"
   ]
  },
  {
   "cell_type": "code",
   "execution_count": 23,
   "id": "f00f68fd",
   "metadata": {},
   "outputs": [
    {
     "data": {
      "text/html": [
       "<div>\n",
       "<style scoped>\n",
       "    .dataframe tbody tr th:only-of-type {\n",
       "        vertical-align: middle;\n",
       "    }\n",
       "\n",
       "    .dataframe tbody tr th {\n",
       "        vertical-align: top;\n",
       "    }\n",
       "\n",
       "    .dataframe thead th {\n",
       "        text-align: right;\n",
       "    }\n",
       "</style>\n",
       "<table border=\"1\" class=\"dataframe\">\n",
       "  <thead>\n",
       "    <tr style=\"text-align: right;\">\n",
       "      <th></th>\n",
       "      <th>SLNO</th>\n",
       "      <th>Candidate Ref</th>\n",
       "      <th>DOJ Extended</th>\n",
       "      <th>Duration to accept offer</th>\n",
       "      <th>Notice period</th>\n",
       "      <th>Offered band</th>\n",
       "      <th>Pecent hike expected in CTC</th>\n",
       "      <th>Percent hike offered in CTC</th>\n",
       "      <th>Percent difference CTC</th>\n",
       "      <th>Joining Bonus</th>\n",
       "      <th>Candidate relocate actual</th>\n",
       "      <th>Gender</th>\n",
       "      <th>Candidate Source</th>\n",
       "      <th>Rex in Yrs</th>\n",
       "      <th>LOB</th>\n",
       "      <th>Location</th>\n",
       "      <th>Age</th>\n",
       "      <th>Status</th>\n",
       "    </tr>\n",
       "  </thead>\n",
       "  <tbody>\n",
       "    <tr>\n",
       "      <th>0</th>\n",
       "      <td>1</td>\n",
       "      <td>2110407</td>\n",
       "      <td>Yes</td>\n",
       "      <td>14</td>\n",
       "      <td>30</td>\n",
       "      <td>E2</td>\n",
       "      <td>-20.79</td>\n",
       "      <td>13.16</td>\n",
       "      <td>42.86</td>\n",
       "      <td>No</td>\n",
       "      <td>No</td>\n",
       "      <td>Female</td>\n",
       "      <td>Agency</td>\n",
       "      <td>7</td>\n",
       "      <td>ERS</td>\n",
       "      <td>Noida</td>\n",
       "      <td>34</td>\n",
       "      <td>Joined</td>\n",
       "    </tr>\n",
       "    <tr>\n",
       "      <th>1</th>\n",
       "      <td>2</td>\n",
       "      <td>2112635</td>\n",
       "      <td>No</td>\n",
       "      <td>18</td>\n",
       "      <td>30</td>\n",
       "      <td>E2</td>\n",
       "      <td>50.00</td>\n",
       "      <td>320.00</td>\n",
       "      <td>180.00</td>\n",
       "      <td>No</td>\n",
       "      <td>No</td>\n",
       "      <td>Male</td>\n",
       "      <td>Employee Referral</td>\n",
       "      <td>8</td>\n",
       "      <td>INFRA</td>\n",
       "      <td>Chennai</td>\n",
       "      <td>34</td>\n",
       "      <td>Joined</td>\n",
       "    </tr>\n",
       "    <tr>\n",
       "      <th>2</th>\n",
       "      <td>3</td>\n",
       "      <td>2112838</td>\n",
       "      <td>No</td>\n",
       "      <td>3</td>\n",
       "      <td>45</td>\n",
       "      <td>E2</td>\n",
       "      <td>42.84</td>\n",
       "      <td>42.84</td>\n",
       "      <td>0.00</td>\n",
       "      <td>No</td>\n",
       "      <td>No</td>\n",
       "      <td>Male</td>\n",
       "      <td>Agency</td>\n",
       "      <td>4</td>\n",
       "      <td>INFRA</td>\n",
       "      <td>Noida</td>\n",
       "      <td>27</td>\n",
       "      <td>Joined</td>\n",
       "    </tr>\n",
       "    <tr>\n",
       "      <th>3</th>\n",
       "      <td>4</td>\n",
       "      <td>2115021</td>\n",
       "      <td>No</td>\n",
       "      <td>26</td>\n",
       "      <td>30</td>\n",
       "      <td>E2</td>\n",
       "      <td>42.84</td>\n",
       "      <td>42.84</td>\n",
       "      <td>0.00</td>\n",
       "      <td>No</td>\n",
       "      <td>No</td>\n",
       "      <td>Male</td>\n",
       "      <td>Employee Referral</td>\n",
       "      <td>4</td>\n",
       "      <td>INFRA</td>\n",
       "      <td>Noida</td>\n",
       "      <td>34</td>\n",
       "      <td>Joined</td>\n",
       "    </tr>\n",
       "    <tr>\n",
       "      <th>4</th>\n",
       "      <td>5</td>\n",
       "      <td>2115125</td>\n",
       "      <td>Yes</td>\n",
       "      <td>1</td>\n",
       "      <td>120</td>\n",
       "      <td>E2</td>\n",
       "      <td>42.59</td>\n",
       "      <td>42.59</td>\n",
       "      <td>0.00</td>\n",
       "      <td>No</td>\n",
       "      <td>Yes</td>\n",
       "      <td>Male</td>\n",
       "      <td>Employee Referral</td>\n",
       "      <td>6</td>\n",
       "      <td>INFRA</td>\n",
       "      <td>Noida</td>\n",
       "      <td>34</td>\n",
       "      <td>Joined</td>\n",
       "    </tr>\n",
       "  </tbody>\n",
       "</table>\n",
       "</div>"
      ],
      "text/plain": [
       "   SLNO  Candidate Ref DOJ Extended  Duration to accept offer  Notice period  \\\n",
       "0     1        2110407          Yes                        14             30   \n",
       "1     2        2112635           No                        18             30   \n",
       "2     3        2112838           No                         3             45   \n",
       "3     4        2115021           No                        26             30   \n",
       "4     5        2115125          Yes                         1            120   \n",
       "\n",
       "  Offered band  Pecent hike expected in CTC  Percent hike offered in CTC  \\\n",
       "0           E2                       -20.79                        13.16   \n",
       "1           E2                        50.00                       320.00   \n",
       "2           E2                        42.84                        42.84   \n",
       "3           E2                        42.84                        42.84   \n",
       "4           E2                        42.59                        42.59   \n",
       "\n",
       "   Percent difference CTC Joining Bonus Candidate relocate actual  Gender  \\\n",
       "0                   42.86            No                        No  Female   \n",
       "1                  180.00            No                        No    Male   \n",
       "2                    0.00            No                        No    Male   \n",
       "3                    0.00            No                        No    Male   \n",
       "4                    0.00            No                       Yes    Male   \n",
       "\n",
       "    Candidate Source  Rex in Yrs    LOB Location  Age  Status  \n",
       "0             Agency           7    ERS    Noida   34  Joined  \n",
       "1  Employee Referral           8  INFRA  Chennai   34  Joined  \n",
       "2             Agency           4  INFRA    Noida   27  Joined  \n",
       "3  Employee Referral           4  INFRA    Noida   34  Joined  \n",
       "4  Employee Referral           6  INFRA    Noida   34  Joined  "
      ]
     },
     "execution_count": 23,
     "metadata": {},
     "output_type": "execute_result"
    }
   ],
   "source": [
    "hr_df.head(5)"
   ]
  },
  {
   "cell_type": "code",
   "execution_count": 24,
   "id": "b9677371",
   "metadata": {},
   "outputs": [
    {
     "name": "stdout",
     "output_type": "stream",
     "text": [
      "<class 'pandas.core.frame.DataFrame'>\n",
      "RangeIndex: 8995 entries, 0 to 8994\n",
      "Data columns (total 18 columns):\n",
      " #   Column                       Non-Null Count  Dtype  \n",
      "---  ------                       --------------  -----  \n",
      " 0   SLNO                         8995 non-null   int64  \n",
      " 1   Candidate Ref                8995 non-null   int64  \n",
      " 2   DOJ Extended                 8995 non-null   object \n",
      " 3   Duration to accept offer     8995 non-null   int64  \n",
      " 4   Notice period                8995 non-null   int64  \n",
      " 5   Offered band                 8995 non-null   object \n",
      " 6   Pecent hike expected in CTC  8995 non-null   float64\n",
      " 7   Percent hike offered in CTC  8995 non-null   float64\n",
      " 8   Percent difference CTC       8995 non-null   float64\n",
      " 9   Joining Bonus                8995 non-null   object \n",
      " 10  Candidate relocate actual    8995 non-null   object \n",
      " 11  Gender                       8995 non-null   object \n",
      " 12  Candidate Source             8995 non-null   object \n",
      " 13  Rex in Yrs                   8995 non-null   int64  \n",
      " 14  LOB                          8995 non-null   object \n",
      " 15  Location                     8995 non-null   object \n",
      " 16  Age                          8995 non-null   int64  \n",
      " 17  Status                       8995 non-null   object \n",
      "dtypes: float64(3), int64(6), object(9)\n",
      "memory usage: 1.2+ MB\n"
     ]
    }
   ],
   "source": [
    "hr_df.info()"
   ]
  },
  {
   "cell_type": "code",
   "execution_count": 25,
   "id": "8a7561af",
   "metadata": {},
   "outputs": [
    {
     "data": {
      "text/plain": [
       "Joined        0.813007\n",
       "Not Joined    0.186993\n",
       "Name: Status, dtype: float64"
      ]
     },
     "execution_count": 25,
     "metadata": {},
     "output_type": "execute_result"
    }
   ],
   "source": [
    "hr_df.Status.value_counts(normalize= True)"
   ]
  },
  {
   "cell_type": "code",
   "execution_count": 26,
   "id": "7d61de88",
   "metadata": {},
   "outputs": [
    {
     "data": {
      "text/plain": [
       "No     4788\n",
       "Yes    4207\n",
       "Name: DOJ Extended, dtype: int64"
      ]
     },
     "execution_count": 26,
     "metadata": {},
     "output_type": "execute_result"
    }
   ],
   "source": [
    "hr_df['DOJ Extended'].value_counts()"
   ]
  },
  {
   "cell_type": "code",
   "execution_count": 27,
   "id": "10a2d325",
   "metadata": {},
   "outputs": [
    {
     "data": {
      "text/plain": [
       "Direct               0.533741\n",
       "Agency               0.287382\n",
       "Employee Referral    0.178877\n",
       "Name: Candidate Source, dtype: float64"
      ]
     },
     "execution_count": 27,
     "metadata": {},
     "output_type": "execute_result"
    }
   ],
   "source": [
    "hr_df['Candidate Source'].value_counts(normalize= True)"
   ]
  },
  {
   "cell_type": "code",
   "execution_count": 28,
   "id": "10d8bd87",
   "metadata": {},
   "outputs": [
    {
     "data": {
      "text/html": [
       "<div>\n",
       "<style scoped>\n",
       "    .dataframe tbody tr th:only-of-type {\n",
       "        vertical-align: middle;\n",
       "    }\n",
       "\n",
       "    .dataframe tbody tr th {\n",
       "        vertical-align: top;\n",
       "    }\n",
       "\n",
       "    .dataframe thead th {\n",
       "        text-align: right;\n",
       "    }\n",
       "</style>\n",
       "<table border=\"1\" class=\"dataframe\">\n",
       "  <thead>\n",
       "    <tr style=\"text-align: right;\">\n",
       "      <th>Age</th>\n",
       "      <th>20</th>\n",
       "      <th>21</th>\n",
       "      <th>22</th>\n",
       "      <th>23</th>\n",
       "      <th>24</th>\n",
       "      <th>25</th>\n",
       "      <th>26</th>\n",
       "      <th>27</th>\n",
       "      <th>28</th>\n",
       "      <th>29</th>\n",
       "      <th>...</th>\n",
       "      <th>43</th>\n",
       "      <th>44</th>\n",
       "      <th>45</th>\n",
       "      <th>46</th>\n",
       "      <th>47</th>\n",
       "      <th>48</th>\n",
       "      <th>49</th>\n",
       "      <th>50</th>\n",
       "      <th>51</th>\n",
       "      <th>60</th>\n",
       "    </tr>\n",
       "    <tr>\n",
       "      <th>LOB</th>\n",
       "      <th></th>\n",
       "      <th></th>\n",
       "      <th></th>\n",
       "      <th></th>\n",
       "      <th></th>\n",
       "      <th></th>\n",
       "      <th></th>\n",
       "      <th></th>\n",
       "      <th></th>\n",
       "      <th></th>\n",
       "      <th></th>\n",
       "      <th></th>\n",
       "      <th></th>\n",
       "      <th></th>\n",
       "      <th></th>\n",
       "      <th></th>\n",
       "      <th></th>\n",
       "      <th></th>\n",
       "      <th></th>\n",
       "      <th></th>\n",
       "      <th></th>\n",
       "    </tr>\n",
       "  </thead>\n",
       "  <tbody>\n",
       "    <tr>\n",
       "      <th>AXON</th>\n",
       "      <td>0</td>\n",
       "      <td>0</td>\n",
       "      <td>0</td>\n",
       "      <td>1</td>\n",
       "      <td>3</td>\n",
       "      <td>11</td>\n",
       "      <td>35</td>\n",
       "      <td>45</td>\n",
       "      <td>50</td>\n",
       "      <td>38</td>\n",
       "      <td>...</td>\n",
       "      <td>1</td>\n",
       "      <td>0</td>\n",
       "      <td>1</td>\n",
       "      <td>1</td>\n",
       "      <td>1</td>\n",
       "      <td>0</td>\n",
       "      <td>1</td>\n",
       "      <td>1</td>\n",
       "      <td>0</td>\n",
       "      <td>0</td>\n",
       "    </tr>\n",
       "    <tr>\n",
       "      <th>BFSI</th>\n",
       "      <td>0</td>\n",
       "      <td>0</td>\n",
       "      <td>1</td>\n",
       "      <td>0</td>\n",
       "      <td>18</td>\n",
       "      <td>82</td>\n",
       "      <td>164</td>\n",
       "      <td>175</td>\n",
       "      <td>151</td>\n",
       "      <td>125</td>\n",
       "      <td>...</td>\n",
       "      <td>1</td>\n",
       "      <td>2</td>\n",
       "      <td>2</td>\n",
       "      <td>1</td>\n",
       "      <td>0</td>\n",
       "      <td>0</td>\n",
       "      <td>0</td>\n",
       "      <td>0</td>\n",
       "      <td>0</td>\n",
       "      <td>0</td>\n",
       "    </tr>\n",
       "    <tr>\n",
       "      <th>CSMP</th>\n",
       "      <td>0</td>\n",
       "      <td>0</td>\n",
       "      <td>0</td>\n",
       "      <td>2</td>\n",
       "      <td>15</td>\n",
       "      <td>47</td>\n",
       "      <td>58</td>\n",
       "      <td>86</td>\n",
       "      <td>53</td>\n",
       "      <td>48</td>\n",
       "      <td>...</td>\n",
       "      <td>0</td>\n",
       "      <td>0</td>\n",
       "      <td>0</td>\n",
       "      <td>0</td>\n",
       "      <td>0</td>\n",
       "      <td>1</td>\n",
       "      <td>1</td>\n",
       "      <td>0</td>\n",
       "      <td>0</td>\n",
       "      <td>0</td>\n",
       "    </tr>\n",
       "    <tr>\n",
       "      <th>EAS</th>\n",
       "      <td>0</td>\n",
       "      <td>0</td>\n",
       "      <td>0</td>\n",
       "      <td>0</td>\n",
       "      <td>0</td>\n",
       "      <td>13</td>\n",
       "      <td>17</td>\n",
       "      <td>24</td>\n",
       "      <td>23</td>\n",
       "      <td>20</td>\n",
       "      <td>...</td>\n",
       "      <td>1</td>\n",
       "      <td>0</td>\n",
       "      <td>1</td>\n",
       "      <td>0</td>\n",
       "      <td>0</td>\n",
       "      <td>0</td>\n",
       "      <td>1</td>\n",
       "      <td>2</td>\n",
       "      <td>0</td>\n",
       "      <td>0</td>\n",
       "    </tr>\n",
       "    <tr>\n",
       "      <th>ERS</th>\n",
       "      <td>0</td>\n",
       "      <td>0</td>\n",
       "      <td>3</td>\n",
       "      <td>44</td>\n",
       "      <td>139</td>\n",
       "      <td>249</td>\n",
       "      <td>303</td>\n",
       "      <td>241</td>\n",
       "      <td>218</td>\n",
       "      <td>162</td>\n",
       "      <td>...</td>\n",
       "      <td>2</td>\n",
       "      <td>1</td>\n",
       "      <td>1</td>\n",
       "      <td>0</td>\n",
       "      <td>0</td>\n",
       "      <td>0</td>\n",
       "      <td>0</td>\n",
       "      <td>0</td>\n",
       "      <td>1</td>\n",
       "      <td>1</td>\n",
       "    </tr>\n",
       "    <tr>\n",
       "      <th>ETS</th>\n",
       "      <td>0</td>\n",
       "      <td>0</td>\n",
       "      <td>0</td>\n",
       "      <td>2</td>\n",
       "      <td>7</td>\n",
       "      <td>32</td>\n",
       "      <td>55</td>\n",
       "      <td>77</td>\n",
       "      <td>70</td>\n",
       "      <td>56</td>\n",
       "      <td>...</td>\n",
       "      <td>3</td>\n",
       "      <td>0</td>\n",
       "      <td>0</td>\n",
       "      <td>1</td>\n",
       "      <td>0</td>\n",
       "      <td>0</td>\n",
       "      <td>0</td>\n",
       "      <td>0</td>\n",
       "      <td>0</td>\n",
       "      <td>0</td>\n",
       "    </tr>\n",
       "    <tr>\n",
       "      <th>Healthcare</th>\n",
       "      <td>0</td>\n",
       "      <td>0</td>\n",
       "      <td>0</td>\n",
       "      <td>3</td>\n",
       "      <td>3</td>\n",
       "      <td>9</td>\n",
       "      <td>12</td>\n",
       "      <td>17</td>\n",
       "      <td>15</td>\n",
       "      <td>14</td>\n",
       "      <td>...</td>\n",
       "      <td>0</td>\n",
       "      <td>0</td>\n",
       "      <td>0</td>\n",
       "      <td>0</td>\n",
       "      <td>0</td>\n",
       "      <td>0</td>\n",
       "      <td>0</td>\n",
       "      <td>0</td>\n",
       "      <td>0</td>\n",
       "      <td>0</td>\n",
       "    </tr>\n",
       "    <tr>\n",
       "      <th>INFRA</th>\n",
       "      <td>2</td>\n",
       "      <td>3</td>\n",
       "      <td>54</td>\n",
       "      <td>169</td>\n",
       "      <td>212</td>\n",
       "      <td>233</td>\n",
       "      <td>192</td>\n",
       "      <td>235</td>\n",
       "      <td>191</td>\n",
       "      <td>169</td>\n",
       "      <td>...</td>\n",
       "      <td>3</td>\n",
       "      <td>3</td>\n",
       "      <td>4</td>\n",
       "      <td>0</td>\n",
       "      <td>1</td>\n",
       "      <td>2</td>\n",
       "      <td>0</td>\n",
       "      <td>1</td>\n",
       "      <td>0</td>\n",
       "      <td>0</td>\n",
       "    </tr>\n",
       "    <tr>\n",
       "      <th>MMS</th>\n",
       "      <td>0</td>\n",
       "      <td>0</td>\n",
       "      <td>0</td>\n",
       "      <td>0</td>\n",
       "      <td>0</td>\n",
       "      <td>1</td>\n",
       "      <td>4</td>\n",
       "      <td>7</td>\n",
       "      <td>1</td>\n",
       "      <td>0</td>\n",
       "      <td>...</td>\n",
       "      <td>0</td>\n",
       "      <td>0</td>\n",
       "      <td>0</td>\n",
       "      <td>0</td>\n",
       "      <td>0</td>\n",
       "      <td>0</td>\n",
       "      <td>0</td>\n",
       "      <td>0</td>\n",
       "      <td>0</td>\n",
       "      <td>0</td>\n",
       "    </tr>\n",
       "  </tbody>\n",
       "</table>\n",
       "<p>9 rows × 33 columns</p>\n",
       "</div>"
      ],
      "text/plain": [
       "Age         20  21  22   23   24   25   26   27   28   29  ...  43  44  45  \\\n",
       "LOB                                                        ...               \n",
       "AXON         0   0   0    1    3   11   35   45   50   38  ...   1   0   1   \n",
       "BFSI         0   0   1    0   18   82  164  175  151  125  ...   1   2   2   \n",
       "CSMP         0   0   0    2   15   47   58   86   53   48  ...   0   0   0   \n",
       "EAS          0   0   0    0    0   13   17   24   23   20  ...   1   0   1   \n",
       "ERS          0   0   3   44  139  249  303  241  218  162  ...   2   1   1   \n",
       "ETS          0   0   0    2    7   32   55   77   70   56  ...   3   0   0   \n",
       "Healthcare   0   0   0    3    3    9   12   17   15   14  ...   0   0   0   \n",
       "INFRA        2   3  54  169  212  233  192  235  191  169  ...   3   3   4   \n",
       "MMS          0   0   0    0    0    1    4    7    1    0  ...   0   0   0   \n",
       "\n",
       "Age         46  47  48  49  50  51  60  \n",
       "LOB                                     \n",
       "AXON         1   1   0   1   1   0   0  \n",
       "BFSI         1   0   0   0   0   0   0  \n",
       "CSMP         0   0   1   1   0   0   0  \n",
       "EAS          0   0   0   1   2   0   0  \n",
       "ERS          0   0   0   0   0   1   1  \n",
       "ETS          1   0   0   0   0   0   0  \n",
       "Healthcare   0   0   0   0   0   0   0  \n",
       "INFRA        0   1   2   0   1   0   0  \n",
       "MMS          0   0   0   0   0   0   0  \n",
       "\n",
       "[9 rows x 33 columns]"
      ]
     },
     "execution_count": 28,
     "metadata": {},
     "output_type": "execute_result"
    }
   ],
   "source": [
    "pd.crosstab(hr_df['LOB'], hr_df['Age'])"
   ]
  },
  {
   "cell_type": "code",
   "execution_count": 29,
   "id": "346e84d7",
   "metadata": {},
   "outputs": [],
   "source": [
    "import matplotlib.pyplot as plt\n",
    "import seaborn as sn\n",
    "%matplotlib inline"
   ]
  },
  {
   "cell_type": "code",
   "execution_count": 30,
   "id": "9951f17e",
   "metadata": {},
   "outputs": [
    {
     "data": {
      "text/plain": [
       "(array([3.090e+02, 6.063e+03, 2.135e+03, 3.440e+02, 7.700e+01, 4.400e+01,\n",
       "        1.300e+01, 5.000e+00, 4.000e+00, 1.000e+00]),\n",
       " array([-60.53 ,  -7.334,  45.862,  99.058, 152.254, 205.45 , 258.646,\n",
       "        311.842, 365.038, 418.234, 471.43 ]),\n",
       " <BarContainer object of 10 artists>)"
      ]
     },
     "execution_count": 30,
     "metadata": {},
     "output_type": "execute_result"
    },
    {
     "data": {
      "image/png": "[encoded data removed]",
      "text/plain": [
       "<Figure size 640x480 with 1 Axes>"
      ]
     },
     "metadata": {},
     "output_type": "display_data"
    }
   ],
   "source": [
    "plt.hist(hr_df['Percent hike offered in CTC'])"
   ]
  },
  {
   "cell_type": "code",
   "execution_count": 31,
   "id": "e48fdb6e",
   "metadata": {},
   "outputs": [],
   "source": [
    "hr_df['Status'] = hr_df['Status'].apply(lambda x: 0 if x == 'Joined' else 1)#converting Joined to 0 and notjoined \n",
    "#to 1 for ease"
   ]
  },
  {
   "cell_type": "code",
   "execution_count": 32,
   "id": "615603c8",
   "metadata": {
    "scrolled": true
   },
   "outputs": [
    {
     "data": {
      "text/plain": [
       "0    7313\n",
       "1    1682\n",
       "Name: Status, dtype: int64"
      ]
     },
     "execution_count": 32,
     "metadata": {},
     "output_type": "execute_result"
    }
   ],
   "source": [
    "hr_df['Status'].value_counts()"
   ]
  },
  {
   "cell_type": "code",
   "execution_count": 33,
   "id": "37ab1fc9",
   "metadata": {},
   "outputs": [
    {
     "data": {
      "text/plain": [
       "['SLNO',\n",
       " 'Candidate Ref',\n",
       " 'DOJ Extended',\n",
       " 'Duration to accept offer',\n",
       " 'Notice period',\n",
       " 'Offered band',\n",
       " 'Pecent hike expected in CTC',\n",
       " 'Percent hike offered in CTC',\n",
       " 'Percent difference CTC',\n",
       " 'Joining Bonus',\n",
       " 'Candidate relocate actual',\n",
       " 'Gender',\n",
       " 'Candidate Source',\n",
       " 'Rex in Yrs',\n",
       " 'LOB',\n",
       " 'Location',\n",
       " 'Age',\n",
       " 'Status']"
      ]
     },
     "execution_count": 33,
     "metadata": {},
     "output_type": "execute_result"
    }
   ],
   "source": [
    "X_features = list(hr_df.columns)\n",
    "X_features"
   ]
  },
  {
   "cell_type": "code",
   "execution_count": 35,
   "id": "44768c96",
   "metadata": {
    "scrolled": true
   },
   "outputs": [
    {
     "data": {
      "text/plain": [
       "['Candidate Ref',\n",
       " 'DOJ Extended',\n",
       " 'Duration to accept offer',\n",
       " 'Notice period',\n",
       " 'Offered band',\n",
       " 'Pecent hike expected in CTC',\n",
       " 'Percent hike offered in CTC',\n",
       " 'Percent difference CTC',\n",
       " 'Joining Bonus',\n",
       " 'Candidate relocate actual',\n",
       " 'Gender',\n",
       " 'Candidate Source',\n",
       " 'Rex in Yrs',\n",
       " 'LOB',\n",
       " 'Location',\n",
       " 'Age']"
      ]
     },
     "execution_count": 35,
     "metadata": {},
     "output_type": "execute_result"
    }
   ],
   "source": [
    "X_features.remove('SLNO')\n",
    "X_features.remove('Status')                  \n",
    "X_features"
   ]
  },
  {
   "cell_type": "code",
   "execution_count": 37,
   "id": "ecf5ee3c",
   "metadata": {
    "scrolled": true
   },
   "outputs": [
    {
     "data": {
      "text/plain": [
       "<AxesSubplot:>"
      ]
     },
     "execution_count": 37,
     "metadata": {},
     "output_type": "execute_result"
    },
    {
     "data": {
      "image/png": "[encoded data removed]",
      "text/plain": [
       "<Figure size 640x480 with 2 Axes>"
      ]
     },
     "metadata": {},
     "output_type": "display_data"
    }
   ],
   "source": [
    "sn.heatmap(hr_df[X_features].corr(), annot= True)#shows percent hike in ctc and expected have a strong correlation\n",
    "#Rex in years and age have a high correlation. We need to check multicollinearity later because of this"
   ]
  },
  {
   "cell_type": "code",
   "execution_count": 41,
   "id": "b9264fc8",
   "metadata": {
    "scrolled": true
   },
   "outputs": [
    {
     "data": {
      "text/plain": [
       "['Candidate Ref',\n",
       " 'Duration to accept offer',\n",
       " 'Notice period',\n",
       " 'Pecent hike expected in CTC',\n",
       " 'Percent hike offered in CTC',\n",
       " 'Percent difference CTC',\n",
       " 'Rex in Yrs',\n",
       " 'Age',\n",
       " 'DOJ Extended_Yes',\n",
       " 'Offered band_E1',\n",
       " 'Offered band_E2',\n",
       " 'Offered band_E3',\n",
       " 'Joining Bonus_Yes',\n",
       " 'Candidate relocate actual_Yes',\n",
       " 'Gender_Male',\n",
       " 'Candidate Source_Direct',\n",
       " 'Candidate Source_Employee Referral',\n",
       " 'LOB_BFSI',\n",
       " 'LOB_CSMP',\n",
       " 'LOB_EAS',\n",
       " 'LOB_ERS',\n",
       " 'LOB_ETS',\n",
       " 'LOB_Healthcare',\n",
       " 'LOB_INFRA',\n",
       " 'LOB_MMS',\n",
       " 'Location_Bangalore',\n",
       " 'Location_Chennai',\n",
       " 'Location_Cochin',\n",
       " 'Location_Gurgaon',\n",
       " 'Location_Hyderabad',\n",
       " 'Location_Kolkata',\n",
       " 'Location_Mumbai',\n",
       " 'Location_Noida',\n",
       " 'Location_Others',\n",
       " 'Location_Pune']"
      ]
     },
     "execution_count": 41,
     "metadata": {},
     "output_type": "execute_result"
    }
   ],
   "source": [
    "encoded_hr_df = pd.get_dummies(hr_df[X_features], drop_first= True)\n",
    "list(encoded_hr_df)"
   ]
  },
  {
   "cell_type": "code",
   "execution_count": 42,
   "id": "2aee7ebc",
   "metadata": {},
   "outputs": [],
   "source": [
    "X = encoded_hr_df\n",
    "Y = hr_df.Status"
   ]
  },
  {
   "cell_type": "code",
   "execution_count": 43,
   "id": "fa5727c9",
   "metadata": {},
   "outputs": [],
   "source": [
    "from sklearn.model_selection import train_test_split\n",
    "X_train, X_test, y_train, y_test = train_test_split(X, Y, test_size= 0.2, random_state= 42)"
   ]
  },
  {
   "cell_type": "code",
   "execution_count": 49,
   "id": "194c8613",
   "metadata": {
    "scrolled": true
   },
   "outputs": [],
   "source": [
    "import statsmodels.api as sm"
   ]
  },
  {
   "cell_type": "code",
   "execution_count": 52,
   "id": "7de55ef3",
   "metadata": {},
   "outputs": [],
   "source": [
    "Logit = sm.Logit(y_train, X_train)"
   ]
  },
  {
   "cell_type": "code",
   "execution_count": 53,
   "id": "8139d3d7",
   "metadata": {},
   "outputs": [
    {
     "name": "stdout",
     "output_type": "stream",
     "text": [
      "Warning: Maximum number of iterations has been exceeded.\n",
      "         Current function value: 0.414145\n",
      "         Iterations: 35\n"
     ]
    },
    {
     "name": "stderr",
     "output_type": "stream",
     "text": [
      "/Users/ishutejwani/opt/anaconda3/lib/python3.9/site-packages/statsmodels/base/model.py:604: ConvergenceWarning: Maximum Likelihood optimization failed to converge. Check mle_retvals\n",
      "  warnings.warn(\"Maximum Likelihood optimization failed to \"\n"
     ]
    }
   ],
   "source": [
    "logit_model = Logit.fit()"
   ]
  },
  {
   "cell_type": "code",
   "execution_count": 54,
   "id": "54b3b7b4",
   "metadata": {
    "scrolled": true
   },
   "outputs": [
    {
     "data": {
      "text/html": [
       "<table class=\"simpletable\">\n",
       "<tr>\n",
       "        <td>Model:</td>              <td>Logit</td>      <td>Pseudo R-squared:</td>    <td>0.139</td>   \n",
       "</tr>\n",
       "<tr>\n",
       "  <td>Dependent Variable:</td>      <td>Status</td>            <td>AIC:</td>         <td>6030.3696</td> \n",
       "</tr>\n",
       "<tr>\n",
       "         <td>Date:</td>        <td>2023-10-05 14:27</td>       <td>BIC:</td>         <td>6271.2145</td> \n",
       "</tr>\n",
       "<tr>\n",
       "   <td>No. Observations:</td>        <td>7196</td>        <td>Log-Likelihood:</td>    <td>-2980.2</td>  \n",
       "</tr>\n",
       "<tr>\n",
       "       <td>Df Model:</td>             <td>34</td>            <td>LL-Null:</td>        <td>-3462.0</td>  \n",
       "</tr>\n",
       "<tr>\n",
       "     <td>Df Residuals:</td>          <td>7161</td>         <td>LLR p-value:</td>    <td>2.4081e-180</td>\n",
       "</tr>\n",
       "<tr>\n",
       "      <td>Converged:</td>           <td>0.0000</td>           <td>Scale:</td>         <td>1.0000</td>   \n",
       "</tr>\n",
       "<tr>\n",
       "    <td>No. Iterations:</td>        <td>35.0000</td>             <td></td>               <td></td>      \n",
       "</tr>\n",
       "</table>\n",
       "<table class=\"simpletable\">\n",
       "<tr>\n",
       "                   <td></td>                    <th>Coef.</th>     <th>Std.Err.</th>        <th>z</th>     <th>P>|z|</th>      <th>[0.025</th>          <th>0.975]</th>     \n",
       "</tr>\n",
       "<tr>\n",
       "  <th>Candidate Ref</th>                       <td>0.0000</td>      <td>0.0000</td>      <td>0.9160</td>  <td>0.3597</td>      <td>-0.0000</td>         <td>0.0000</td>     \n",
       "</tr>\n",
       "<tr>\n",
       "  <th>Duration to accept offer</th>            <td>0.0002</td>      <td>0.0013</td>      <td>0.1230</td>  <td>0.9021</td>      <td>-0.0024</td>         <td>0.0027</td>     \n",
       "</tr>\n",
       "<tr>\n",
       "  <th>Notice period</th>                       <td>0.0216</td>      <td>0.0016</td>      <td>13.8612</td> <td>0.0000</td>      <td>0.0186</td>          <td>0.0247</td>     \n",
       "</tr>\n",
       "<tr>\n",
       "  <th>Pecent hike expected in CTC</th>         <td>0.0015</td>      <td>0.0043</td>      <td>0.3588</td>  <td>0.7198</td>      <td>-0.0069</td>         <td>0.0100</td>     \n",
       "</tr>\n",
       "<tr>\n",
       "  <th>Percent hike offered in CTC</th>         <td>-0.0029</td>     <td>0.0044</td>      <td>-0.6545</td> <td>0.5128</td>      <td>-0.0115</td>         <td>0.0057</td>     \n",
       "</tr>\n",
       "<tr>\n",
       "  <th>Percent difference CTC</th>              <td>0.0013</td>      <td>0.0059</td>      <td>0.2283</td>  <td>0.8194</td>      <td>-0.0102</td>         <td>0.0129</td>     \n",
       "</tr>\n",
       "<tr>\n",
       "  <th>Rex in Yrs</th>                          <td>0.0321</td>      <td>0.0231</td>      <td>1.3933</td>  <td>0.1635</td>      <td>-0.0131</td>         <td>0.0773</td>     \n",
       "</tr>\n",
       "<tr>\n",
       "  <th>Age</th>                                 <td>-0.0371</td>     <td>0.0110</td>      <td>-3.3572</td> <td>0.0008</td>      <td>-0.0587</td>         <td>-0.0154</td>    \n",
       "</tr>\n",
       "<tr>\n",
       "  <th>DOJ Extended_Yes</th>                    <td>-0.1283</td>     <td>0.0716</td>      <td>-1.7934</td> <td>0.0729</td>      <td>-0.2686</td>         <td>0.0119</td>     \n",
       "</tr>\n",
       "<tr>\n",
       "  <th>Offered band_E1</th>                     <td>-1.1400</td>     <td>0.2254</td>      <td>-5.0566</td> <td>0.0000</td>      <td>-1.5818</td>         <td>-0.6981</td>    \n",
       "</tr>\n",
       "<tr>\n",
       "  <th>Offered band_E2</th>                     <td>-0.9725</td>     <td>0.2463</td>      <td>-3.9475</td> <td>0.0001</td>      <td>-1.4553</td>         <td>-0.4896</td>    \n",
       "</tr>\n",
       "<tr>\n",
       "  <th>Offered band_E3</th>                     <td>-1.1809</td>     <td>0.3156</td>      <td>-3.7420</td> <td>0.0002</td>      <td>-1.7994</td>         <td>-0.5624</td>    \n",
       "</tr>\n",
       "<tr>\n",
       "  <th>Joining Bonus_Yes</th>                   <td>0.1547</td>      <td>0.1639</td>      <td>0.9439</td>  <td>0.3452</td>      <td>-0.1665</td>         <td>0.4759</td>     \n",
       "</tr>\n",
       "<tr>\n",
       "  <th>Candidate relocate actual_Yes</th>      <td>-20.6194</td>    <td>1698.8917</td>    <td>-0.0121</td> <td>0.9903</td>    <td>-3350.3859</td>       <td>3309.1472</td>   \n",
       "</tr>\n",
       "<tr>\n",
       "  <th>Gender_Male</th>                         <td>0.1357</td>      <td>0.0885</td>      <td>1.5338</td>  <td>0.1251</td>      <td>-0.0377</td>         <td>0.3091</td>     \n",
       "</tr>\n",
       "<tr>\n",
       "  <th>Candidate Source_Direct</th>             <td>-0.3053</td>     <td>0.0749</td>      <td>-4.0738</td> <td>0.0000</td>      <td>-0.4521</td>         <td>-0.1584</td>    \n",
       "</tr>\n",
       "<tr>\n",
       "  <th>Candidate Source_Employee Referral</th>  <td>-0.7015</td>     <td>0.1101</td>      <td>-6.3730</td> <td>0.0000</td>      <td>-0.9173</td>         <td>-0.4858</td>    \n",
       "</tr>\n",
       "<tr>\n",
       "  <th>LOB_BFSI</th>                            <td>-0.3945</td>     <td>0.1583</td>      <td>-2.4922</td> <td>0.0127</td>      <td>-0.7048</td>         <td>-0.0843</td>    \n",
       "</tr>\n",
       "<tr>\n",
       "  <th>LOB_CSMP</th>                            <td>-0.4255</td>     <td>0.1834</td>      <td>-2.3204</td> <td>0.0203</td>      <td>-0.7849</td>         <td>-0.0661</td>    \n",
       "</tr>\n",
       "<tr>\n",
       "  <th>LOB_EAS</th>                             <td>0.0670</td>      <td>0.2000</td>      <td>0.3351</td>  <td>0.7376</td>      <td>-0.3249</td>         <td>0.4589</td>     \n",
       "</tr>\n",
       "<tr>\n",
       "  <th>LOB_ERS</th>                             <td>-0.2799</td>     <td>0.1502</td>      <td>-1.8637</td> <td>0.0624</td>      <td>-0.5743</td>         <td>0.0145</td>     \n",
       "</tr>\n",
       "<tr>\n",
       "  <th>LOB_ETS</th>                             <td>-0.6678</td>     <td>0.1779</td>      <td>-3.7536</td> <td>0.0002</td>      <td>-1.0164</td>         <td>-0.3191</td>    \n",
       "</tr>\n",
       "<tr>\n",
       "  <th>LOB_Healthcare</th>                      <td>-0.5414</td>     <td>0.2985</td>      <td>-1.8138</td> <td>0.0697</td>      <td>-1.1264</td>         <td>0.0436</td>     \n",
       "</tr>\n",
       "<tr>\n",
       "  <th>LOB_INFRA</th>                           <td>-0.8591</td>     <td>0.1626</td>      <td>-5.2825</td> <td>0.0000</td>      <td>-1.1778</td>         <td>-0.5403</td>    \n",
       "</tr>\n",
       "<tr>\n",
       "  <th>LOB_MMS</th>                            <td>-26.4622</td>   <td>204018.3642</td>   <td>-0.0001</td> <td>0.9999</td>   <td>-399895.1082</td>     <td>399842.1838</td>  \n",
       "</tr>\n",
       "<tr>\n",
       "  <th>Location_Bangalore</th>                  <td>0.3836</td>      <td>0.3980</td>      <td>0.9639</td>  <td>0.3351</td>      <td>-0.3964</td>         <td>1.1637</td>     \n",
       "</tr>\n",
       "<tr>\n",
       "  <th>Location_Chennai</th>                    <td>0.4886</td>      <td>0.3995</td>      <td>1.2229</td>  <td>0.2214</td>      <td>-0.2945</td>         <td>1.2716</td>     \n",
       "</tr>\n",
       "<tr>\n",
       "  <th>Location_Cochin</th>                    <td>-43.1321</td> <td>3239149920.6151</td> <td>-0.0000</td> <td>1.0000</td> <td>-6348617228.0635</td> <td>6348617141.7992</td>\n",
       "</tr>\n",
       "<tr>\n",
       "  <th>Location_Gurgaon</th>                    <td>0.6081</td>      <td>0.4611</td>      <td>1.3188</td>  <td>0.1872</td>      <td>-0.2956</td>         <td>1.5119</td>     \n",
       "</tr>\n",
       "<tr>\n",
       "  <th>Location_Hyderabad</th>                  <td>0.2363</td>      <td>0.4194</td>      <td>0.5633</td>  <td>0.5732</td>      <td>-0.5858</td>         <td>1.0583</td>     \n",
       "</tr>\n",
       "<tr>\n",
       "  <th>Location_Kolkata</th>                    <td>0.1965</td>      <td>0.4547</td>      <td>0.4322</td>  <td>0.6656</td>      <td>-0.6947</td>         <td>1.0876</td>     \n",
       "</tr>\n",
       "<tr>\n",
       "  <th>Location_Mumbai</th>                     <td>0.1525</td>      <td>0.4869</td>      <td>0.3133</td>  <td>0.7541</td>      <td>-0.8017</td>         <td>1.1068</td>     \n",
       "</tr>\n",
       "<tr>\n",
       "  <th>Location_Noida</th>                      <td>0.1293</td>      <td>0.3920</td>      <td>0.3299</td>  <td>0.7415</td>      <td>-0.6390</td>         <td>0.8976</td>     \n",
       "</tr>\n",
       "<tr>\n",
       "  <th>Location_Others</th>                    <td>-42.9768</td> <td>2140048080.3452</td> <td>-0.0000</td> <td>1.0000</td> <td>-4194417205.6374</td> <td>4194417119.6838</td>\n",
       "</tr>\n",
       "<tr>\n",
       "  <th>Location_Pune</th>                       <td>0.0997</td>      <td>0.6356</td>      <td>0.1569</td>  <td>0.8753</td>      <td>-1.1461</td>         <td>1.3455</td>     \n",
       "</tr>\n",
       "</table>"
      ],
      "text/plain": [
       "<class 'statsmodels.iolib.summary2.Summary'>\n",
       "\"\"\"\n",
       "                                              Results: Logit\n",
       "===========================================================================================================\n",
       "Model:                             Logit                         Pseudo R-squared:              0.139      \n",
       "Dependent Variable:                Status                        AIC:                           6030.3696  \n",
       "Date:                              2023-10-05 14:27              BIC:                           6271.2145  \n",
       "No. Observations:                  7196                          Log-Likelihood:                -2980.2    \n",
       "Df Model:                          34                            LL-Null:                       -3462.0    \n",
       "Df Residuals:                      7161                          LLR p-value:                   2.4081e-180\n",
       "Converged:                         0.0000                        Scale:                         1.0000     \n",
       "No. Iterations:                    35.0000                                                                 \n",
       "-----------------------------------------------------------------------------------------------------------\n",
       "                                    Coef.       Std.Err.       z    P>|z|       [0.025           0.975]    \n",
       "-----------------------------------------------------------------------------------------------------------\n",
       "Candidate Ref                        0.0000          0.0000  0.9160 0.3597          -0.0000          0.0000\n",
       "Duration to accept offer             0.0002          0.0013  0.1230 0.9021          -0.0024          0.0027\n",
       "Notice period                        0.0216          0.0016 13.8612 0.0000           0.0186          0.0247\n",
       "Pecent hike expected in CTC          0.0015          0.0043  0.3588 0.7198          -0.0069          0.0100\n",
       "Percent hike offered in CTC         -0.0029          0.0044 -0.6545 0.5128          -0.0115          0.0057\n",
       "Percent difference CTC               0.0013          0.0059  0.2283 0.8194          -0.0102          0.0129\n",
       "Rex in Yrs                           0.0321          0.0231  1.3933 0.1635          -0.0131          0.0773\n",
       "Age                                 -0.0371          0.0110 -3.3572 0.0008          -0.0587         -0.0154\n",
       "DOJ Extended_Yes                    -0.1283          0.0716 -1.7934 0.0729          -0.2686          0.0119\n",
       "Offered band_E1                     -1.1400          0.2254 -5.0566 0.0000          -1.5818         -0.6981\n",
       "Offered band_E2                     -0.9725          0.2463 -3.9475 0.0001          -1.4553         -0.4896\n",
       "Offered band_E3                     -1.1809          0.3156 -3.7420 0.0002          -1.7994         -0.5624\n",
       "Joining Bonus_Yes                    0.1547          0.1639  0.9439 0.3452          -0.1665          0.4759\n",
       "Candidate relocate actual_Yes      -20.6194       1698.8917 -0.0121 0.9903       -3350.3859       3309.1472\n",
       "Gender_Male                          0.1357          0.0885  1.5338 0.1251          -0.0377          0.3091\n",
       "Candidate Source_Direct             -0.3053          0.0749 -4.0738 0.0000          -0.4521         -0.1584\n",
       "Candidate Source_Employee Referral  -0.7015          0.1101 -6.3730 0.0000          -0.9173         -0.4858\n",
       "LOB_BFSI                            -0.3945          0.1583 -2.4922 0.0127          -0.7048         -0.0843\n",
       "LOB_CSMP                            -0.4255          0.1834 -2.3204 0.0203          -0.7849         -0.0661\n",
       "LOB_EAS                              0.0670          0.2000  0.3351 0.7376          -0.3249          0.4589\n",
       "LOB_ERS                             -0.2799          0.1502 -1.8637 0.0624          -0.5743          0.0145\n",
       "LOB_ETS                             -0.6678          0.1779 -3.7536 0.0002          -1.0164         -0.3191\n",
       "LOB_Healthcare                      -0.5414          0.2985 -1.8138 0.0697          -1.1264          0.0436\n",
       "LOB_INFRA                           -0.8591          0.1626 -5.2825 0.0000          -1.1778         -0.5403\n",
       "LOB_MMS                            -26.4622     204018.3642 -0.0001 0.9999     -399895.1082     399842.1838\n",
       "Location_Bangalore                   0.3836          0.3980  0.9639 0.3351          -0.3964          1.1637\n",
       "Location_Chennai                     0.4886          0.3995  1.2229 0.2214          -0.2945          1.2716\n",
       "Location_Cochin                    -43.1321 3239149920.6151 -0.0000 1.0000 -6348617228.0635 6348617141.7992\n",
       "Location_Gurgaon                     0.6081          0.4611  1.3188 0.1872          -0.2956          1.5119\n",
       "Location_Hyderabad                   0.2363          0.4194  0.5633 0.5732          -0.5858          1.0583\n",
       "Location_Kolkata                     0.1965          0.4547  0.4322 0.6656          -0.6947          1.0876\n",
       "Location_Mumbai                      0.1525          0.4869  0.3133 0.7541          -0.8017          1.1068\n",
       "Location_Noida                       0.1293          0.3920  0.3299 0.7415          -0.6390          0.8976\n",
       "Location_Others                    -42.9768 2140048080.3452 -0.0000 1.0000 -4194417205.6374 4194417119.6838\n",
       "Location_Pune                        0.0997          0.6356  0.1569 0.8753          -1.1461          1.3455\n",
       "===========================================================================================================\n",
       "\n",
       "\"\"\""
      ]
     },
     "execution_count": 54,
     "metadata": {},
     "output_type": "execute_result"
    }
   ],
   "source": [
    "logit_model.summary2()"
   ]
  },
  {
   "cell_type": "code",
   "execution_count": 60,
   "id": "c26435af",
   "metadata": {},
   "outputs": [],
   "source": [
    "def get_significant_vars(lm):\n",
    "    var_pvalue_df = pd.DataFrame(lm.pvalues)\n",
    "    var_pvalue_df['var'] = var_pvalue_df.index\n",
    "    var_pvalue_df.columns = ['pvalue', 'var']\n",
    "    return list(var_pvalue_df[var_pvalue_df.pvalue <= 0.05]['var'])"
   ]
  },
  {
   "cell_type": "code",
   "execution_count": 61,
   "id": "68763d52",
   "metadata": {},
   "outputs": [
    {
     "data": {
      "text/plain": [
       "['Notice period',\n",
       " 'Age',\n",
       " 'Offered band_E1',\n",
       " 'Offered band_E2',\n",
       " 'Offered band_E3',\n",
       " 'Candidate Source_Direct',\n",
       " 'Candidate Source_Employee Referral',\n",
       " 'LOB_BFSI',\n",
       " 'LOB_CSMP',\n",
       " 'LOB_ETS',\n",
       " 'LOB_INFRA']"
      ]
     },
     "execution_count": 61,
     "metadata": {},
     "output_type": "execute_result"
    }
   ],
   "source": [
    "significant_vars = get_significant_vars(logit_model)\n",
    "significant_vars"
   ]
  },
  {
   "cell_type": "code",
   "execution_count": 64,
   "id": "734ce3d7",
   "metadata": {},
   "outputs": [],
   "source": [
    "y_pred = logit_model.predict(X_test[list(encoded_hr_df)])"
   ]
  },
  {
   "cell_type": "code",
   "execution_count": 65,
   "id": "a332e2d3",
   "metadata": {},
   "outputs": [],
   "source": [
    "y_pred_df = pd.DataFrame({'actual': y_test, 'predicted_prob': y_pred})"
   ]
  },
  {
   "cell_type": "code",
   "execution_count": 67,
   "id": "8726df87",
   "metadata": {},
   "outputs": [
    {
     "data": {
      "text/html": [
       "<div>\n",
       "<style scoped>\n",
       "    .dataframe tbody tr th:only-of-type {\n",
       "        vertical-align: middle;\n",
       "    }\n",
       "\n",
       "    .dataframe tbody tr th {\n",
       "        vertical-align: top;\n",
       "    }\n",
       "\n",
       "    .dataframe thead th {\n",
       "        text-align: right;\n",
       "    }\n",
       "</style>\n",
       "<table border=\"1\" class=\"dataframe\">\n",
       "  <thead>\n",
       "    <tr style=\"text-align: right;\">\n",
       "      <th></th>\n",
       "      <th>actual</th>\n",
       "      <th>predicted_prob</th>\n",
       "      <th>predicted</th>\n",
       "    </tr>\n",
       "  </thead>\n",
       "  <tbody>\n",
       "    <tr>\n",
       "      <th>330</th>\n",
       "      <td>0</td>\n",
       "      <td>9.625791e-02</td>\n",
       "      <td>0</td>\n",
       "    </tr>\n",
       "    <tr>\n",
       "      <th>8702</th>\n",
       "      <td>0</td>\n",
       "      <td>3.154831e-10</td>\n",
       "      <td>0</td>\n",
       "    </tr>\n",
       "    <tr>\n",
       "      <th>7174</th>\n",
       "      <td>0</td>\n",
       "      <td>3.469119e-10</td>\n",
       "      <td>0</td>\n",
       "    </tr>\n",
       "    <tr>\n",
       "      <th>4391</th>\n",
       "      <td>0</td>\n",
       "      <td>2.190670e-01</td>\n",
       "      <td>0</td>\n",
       "    </tr>\n",
       "    <tr>\n",
       "      <th>1315</th>\n",
       "      <td>0</td>\n",
       "      <td>3.765540e-01</td>\n",
       "      <td>0</td>\n",
       "    </tr>\n",
       "    <tr>\n",
       "      <th>1323</th>\n",
       "      <td>0</td>\n",
       "      <td>1.492709e-01</td>\n",
       "      <td>0</td>\n",
       "    </tr>\n",
       "    <tr>\n",
       "      <th>17</th>\n",
       "      <td>0</td>\n",
       "      <td>5.618152e-02</td>\n",
       "      <td>0</td>\n",
       "    </tr>\n",
       "    <tr>\n",
       "      <th>379</th>\n",
       "      <td>0</td>\n",
       "      <td>2.101345e-01</td>\n",
       "      <td>0</td>\n",
       "    </tr>\n",
       "    <tr>\n",
       "      <th>1430</th>\n",
       "      <td>0</td>\n",
       "      <td>2.785401e-10</td>\n",
       "      <td>0</td>\n",
       "    </tr>\n",
       "    <tr>\n",
       "      <th>8911</th>\n",
       "      <td>0</td>\n",
       "      <td>5.098940e-02</td>\n",
       "      <td>0</td>\n",
       "    </tr>\n",
       "  </tbody>\n",
       "</table>\n",
       "</div>"
      ],
      "text/plain": [
       "      actual  predicted_prob  predicted\n",
       "330        0    9.625791e-02          0\n",
       "8702       0    3.154831e-10          0\n",
       "7174       0    3.469119e-10          0\n",
       "4391       0    2.190670e-01          0\n",
       "1315       0    3.765540e-01          0\n",
       "1323       0    1.492709e-01          0\n",
       "17         0    5.618152e-02          0\n",
       "379        0    2.101345e-01          0\n",
       "1430       0    2.785401e-10          0\n",
       "8911       0    5.098940e-02          0"
      ]
     },
     "execution_count": 67,
     "metadata": {},
     "output_type": "execute_result"
    }
   ],
   "source": [
    "y_pred_df['predicted'] = y_pred_df.predicted_prob.map(lambda x: 1 if x > 0.5 else 0)\n",
    "y_pred_df.sample(10, random_state= 42)"
   ]
  },
  {
   "cell_type": "code",
   "execution_count": 68,
   "id": "032318f7",
   "metadata": {},
   "outputs": [],
   "source": [
    "from sklearn.metrics import confusion_matrix, classification_report\n",
    "def draw_cm(actual, predicted):\n",
    "    cm = confusion_matrix(actual, predicted)\n",
    "    sn.heatmap(cm, annot= True, fmt= '.2f', xticklabels= ['Not Joined', 'Joined'], \n",
    "              yticklabels= ['Not Joined', 'Joined'])\n",
    "    plt.ylabel('True Label')\n",
    "    plt.xlabel('Predicted Label')\n",
    "    plt.show()"
   ]
  },
  {
   "cell_type": "code",
   "execution_count": 69,
   "id": "93518dea",
   "metadata": {},
   "outputs": [
    {
     "data": {
      "image/png": "[encoded data removed]",
      "text/plain": [
       "<Figure size 640x480 with 2 Axes>"
      ]
     },
     "metadata": {},
     "output_type": "display_data"
    }
   ],
   "source": [
    "draw_cm(y_pred_df.actual, y_pred_df.predicted)"
   ]
  },
  {
   "cell_type": "code",
   "execution_count": 70,
   "id": "16093d08",
   "metadata": {
    "scrolled": true
   },
   "outputs": [
    {
     "name": "stdout",
     "output_type": "stream",
     "text": [
      "              precision    recall  f1-score   support\n",
      "\n",
      "           0       0.82      0.98      0.89      1459\n",
      "           1       0.49      0.06      0.11       340\n",
      "\n",
      "    accuracy                           0.81      1799\n",
      "   macro avg       0.65      0.52      0.50      1799\n",
      "weighted avg       0.76      0.81      0.75      1799\n",
      "\n"
     ]
    }
   ],
   "source": [
    "print(classification_report(y_pred_df.actual, y_pred_df.predicted))#this shows that with general model\n",
    "#the recall for 1 is 0.06 and f1 score is 0.11 which is very less. "
   ]
  },
  {
   "cell_type": "code",
   "execution_count": 71,
   "id": "a892492e",
   "metadata": {},
   "outputs": [],
   "source": [
    "#now we need to make a model with significant variables and need to predict"
   ]
  },
  {
   "cell_type": "code",
   "execution_count": 72,
   "id": "0a35abcb",
   "metadata": {},
   "outputs": [],
   "source": [
    "X_train = X_train[significant_vars]"
   ]
  },
  {
   "cell_type": "code",
   "execution_count": 73,
   "id": "939e0bbe",
   "metadata": {},
   "outputs": [
    {
     "name": "stdout",
     "output_type": "stream",
     "text": [
      "Optimization terminated successfully.\n",
      "         Current function value: 0.448861\n",
      "         Iterations 6\n"
     ]
    }
   ],
   "source": [
    "logit_sign = sm.Logit(y_train, X_train)\n",
    "logit_model_sign = logit_sign.fit()"
   ]
  },
  {
   "cell_type": "code",
   "execution_count": 74,
   "id": "6c4fa0d5",
   "metadata": {},
   "outputs": [
    {
     "data": {
      "text/html": [
       "<table class=\"simpletable\">\n",
       "<tr>\n",
       "        <td>Model:</td>              <td>Logit</td>      <td>Pseudo R-squared:</td>    <td>0.067</td>  \n",
       "</tr>\n",
       "<tr>\n",
       "  <td>Dependent Variable:</td>      <td>Status</td>            <td>AIC:</td>         <td>6482.0085</td>\n",
       "</tr>\n",
       "<tr>\n",
       "         <td>Date:</td>        <td>2023-10-05 15:49</td>       <td>BIC:</td>         <td>6557.7025</td>\n",
       "</tr>\n",
       "<tr>\n",
       "   <td>No. Observations:</td>        <td>7196</td>        <td>Log-Likelihood:</td>    <td>-3230.0</td> \n",
       "</tr>\n",
       "<tr>\n",
       "       <td>Df Model:</td>             <td>10</td>            <td>LL-Null:</td>        <td>-3462.0</td> \n",
       "</tr>\n",
       "<tr>\n",
       "     <td>Df Residuals:</td>          <td>7185</td>         <td>LLR p-value:</td>    <td>2.2191e-93</td>\n",
       "</tr>\n",
       "<tr>\n",
       "      <td>Converged:</td>           <td>1.0000</td>           <td>Scale:</td>         <td>1.0000</td>  \n",
       "</tr>\n",
       "<tr>\n",
       "    <td>No. Iterations:</td>        <td>6.0000</td>              <td></td>               <td></td>     \n",
       "</tr>\n",
       "</table>\n",
       "<table class=\"simpletable\">\n",
       "<tr>\n",
       "                   <td></td>                   <th>Coef.</th>  <th>Std.Err.</th>    <th>z</th>     <th>P>|z|</th> <th>[0.025</th>  <th>0.975]</th> \n",
       "</tr>\n",
       "<tr>\n",
       "  <th>Notice period</th>                      <td>0.0206</td>   <td>0.0014</td>  <td>15.1004</td> <td>0.0000</td> <td>0.0179</td>  <td>0.0232</td> \n",
       "</tr>\n",
       "<tr>\n",
       "  <th>Age</th>                                <td>-0.0318</td>  <td>0.0064</td>  <td>-4.9938</td> <td>0.0000</td> <td>-0.0442</td> <td>-0.0193</td>\n",
       "</tr>\n",
       "<tr>\n",
       "  <th>Offered band_E1</th>                    <td>-1.0631</td>  <td>0.1846</td>  <td>-5.7577</td> <td>0.0000</td> <td>-1.4250</td> <td>-0.7012</td>\n",
       "</tr>\n",
       "<tr>\n",
       "  <th>Offered band_E2</th>                    <td>-0.7426</td>  <td>0.2063</td>  <td>-3.5988</td> <td>0.0003</td> <td>-1.1470</td> <td>-0.3382</td>\n",
       "</tr>\n",
       "<tr>\n",
       "  <th>Offered band_E3</th>                    <td>-0.8716</td>  <td>0.2605</td>  <td>-3.3456</td> <td>0.0008</td> <td>-1.3823</td> <td>-0.3610</td>\n",
       "</tr>\n",
       "<tr>\n",
       "  <th>Candidate Source_Direct</th>            <td>-0.2932</td>  <td>0.0691</td>  <td>-4.2438</td> <td>0.0000</td> <td>-0.4286</td> <td>-0.1578</td>\n",
       "</tr>\n",
       "<tr>\n",
       "  <th>Candidate Source_Employee Referral</th> <td>-0.7222</td>  <td>0.1063</td>  <td>-6.7939</td> <td>0.0000</td> <td>-0.9305</td> <td>-0.5138</td>\n",
       "</tr>\n",
       "<tr>\n",
       "  <th>LOB_BFSI</th>                           <td>0.1356</td>   <td>0.0856</td>  <td>1.5847</td>  <td>0.1130</td> <td>-0.0321</td> <td>0.3033</td> \n",
       "</tr>\n",
       "<tr>\n",
       "  <th>LOB_CSMP</th>                           <td>-0.2146</td>  <td>0.1352</td>  <td>-1.5881</td> <td>0.1123</td> <td>-0.4795</td> <td>0.0503</td> \n",
       "</tr>\n",
       "<tr>\n",
       "  <th>LOB_ETS</th>                            <td>-0.3978</td>  <td>0.1287</td>  <td>-3.0912</td> <td>0.0020</td> <td>-0.6501</td> <td>-0.1456</td>\n",
       "</tr>\n",
       "<tr>\n",
       "  <th>LOB_INFRA</th>                          <td>-0.7240</td>  <td>0.0851</td>  <td>-8.5099</td> <td>0.0000</td> <td>-0.8908</td> <td>-0.5573</td>\n",
       "</tr>\n",
       "</table>"
      ],
      "text/plain": [
       "<class 'statsmodels.iolib.summary2.Summary'>\n",
       "\"\"\"\n",
       "                                  Results: Logit\n",
       "==================================================================================\n",
       "Model:                     Logit                 Pseudo R-squared:      0.067     \n",
       "Dependent Variable:        Status                AIC:                   6482.0085 \n",
       "Date:                      2023-10-05 15:49      BIC:                   6557.7025 \n",
       "No. Observations:          7196                  Log-Likelihood:        -3230.0   \n",
       "Df Model:                  10                    LL-Null:               -3462.0   \n",
       "Df Residuals:              7185                  LLR p-value:           2.2191e-93\n",
       "Converged:                 1.0000                Scale:                 1.0000    \n",
       "No. Iterations:            6.0000                                                 \n",
       "----------------------------------------------------------------------------------\n",
       "                                    Coef.  Std.Err.    z    P>|z|   [0.025  0.975]\n",
       "----------------------------------------------------------------------------------\n",
       "Notice period                       0.0206   0.0014 15.1004 0.0000  0.0179  0.0232\n",
       "Age                                -0.0318   0.0064 -4.9938 0.0000 -0.0442 -0.0193\n",
       "Offered band_E1                    -1.0631   0.1846 -5.7577 0.0000 -1.4250 -0.7012\n",
       "Offered band_E2                    -0.7426   0.2063 -3.5988 0.0003 -1.1470 -0.3382\n",
       "Offered band_E3                    -0.8716   0.2605 -3.3456 0.0008 -1.3823 -0.3610\n",
       "Candidate Source_Direct            -0.2932   0.0691 -4.2438 0.0000 -0.4286 -0.1578\n",
       "Candidate Source_Employee Referral -0.7222   0.1063 -6.7939 0.0000 -0.9305 -0.5138\n",
       "LOB_BFSI                            0.1356   0.0856  1.5847 0.1130 -0.0321  0.3033\n",
       "LOB_CSMP                           -0.2146   0.1352 -1.5881 0.1123 -0.4795  0.0503\n",
       "LOB_ETS                            -0.3978   0.1287 -3.0912 0.0020 -0.6501 -0.1456\n",
       "LOB_INFRA                          -0.7240   0.0851 -8.5099 0.0000 -0.8908 -0.5573\n",
       "==================================================================================\n",
       "\n",
       "\"\"\""
      ]
     },
     "execution_count": 74,
     "metadata": {},
     "output_type": "execute_result"
    }
   ],
   "source": [
    "logit_model_sign.summary2()#the new model shows that BFSI and CSMP LOB are not significant"
   ]
  },
  {
   "cell_type": "code",
   "execution_count": 76,
   "id": "01478ab4",
   "metadata": {},
   "outputs": [
    {
     "data": {
      "text/plain": [
       "['Notice period',\n",
       " 'Age',\n",
       " 'Offered band_E1',\n",
       " 'Offered band_E2',\n",
       " 'Offered band_E3',\n",
       " 'Candidate Source_Direct',\n",
       " 'Candidate Source_Employee Referral',\n",
       " 'LOB_ETS',\n",
       " 'LOB_INFRA']"
      ]
     },
     "execution_count": 76,
     "metadata": {},
     "output_type": "execute_result"
    }
   ],
   "source": [
    "significant_vars_1 = get_significant_vars(logit_model_sign)\n",
    "significant_vars_1"
   ]
  },
  {
   "cell_type": "code",
   "execution_count": 77,
   "id": "05734d8d",
   "metadata": {},
   "outputs": [],
   "source": [
    "y_pred = logit_model_sign.predict(X_test[significant_vars])"
   ]
  },
  {
   "cell_type": "code",
   "execution_count": 78,
   "id": "7401fbbc",
   "metadata": {},
   "outputs": [],
   "source": [
    "y_pred_df['predicted_new'] = y_pred"
   ]
  },
  {
   "cell_type": "code",
   "execution_count": 79,
   "id": "cf20d8bf",
   "metadata": {
    "scrolled": true
   },
   "outputs": [
    {
     "name": "stdout",
     "output_type": "stream",
     "text": [
      "<class 'pandas.core.frame.DataFrame'>\n",
      "Int64Index: 1799 entries, 4622 to 8436\n",
      "Data columns (total 4 columns):\n",
      " #   Column          Non-Null Count  Dtype  \n",
      "---  ------          --------------  -----  \n",
      " 0   actual          1799 non-null   int64  \n",
      " 1   predicted_prob  1799 non-null   float64\n",
      " 2   predicted       1799 non-null   int64  \n",
      " 3   predicted_new   1799 non-null   float64\n",
      "dtypes: float64(2), int64(2)\n",
      "memory usage: 70.3 KB\n"
     ]
    }
   ],
   "source": [
    "y_pred_df.info()"
   ]
  },
  {
   "cell_type": "code",
   "execution_count": 80,
   "id": "c73b8a1f",
   "metadata": {},
   "outputs": [],
   "source": [
    "y_pred_df['new_predict'] = y_pred_df.predicted_new.map(lambda x: 1 if x > 0.5 else 0)"
   ]
  },
  {
   "cell_type": "code",
   "execution_count": 82,
   "id": "bdcdff24",
   "metadata": {},
   "outputs": [
    {
     "name": "stdout",
     "output_type": "stream",
     "text": [
      "              precision    recall  f1-score   support\n",
      "\n",
      "           0       0.81      1.00      0.89      1459\n",
      "           1       0.40      0.01      0.02       340\n",
      "\n",
      "    accuracy                           0.81      1799\n",
      "   macro avg       0.61      0.50      0.46      1799\n",
      "weighted avg       0.73      0.81      0.73      1799\n",
      "\n"
     ]
    }
   ],
   "source": [
    "print(classification_report(y_pred_df.actual, y_pred_df.new_predict))"
   ]
  },
  {
   "cell_type": "code",
   "execution_count": 83,
   "id": "c4f4d730",
   "metadata": {
    "scrolled": true
   },
   "outputs": [
    {
     "data": {
      "image/png": "[encoded data removed]",
      "text/plain": [
       "<Figure size 640x480 with 2 Axes>"
      ]
     },
     "metadata": {},
     "output_type": "display_data"
    }
   ],
   "source": [
    "draw_cm(y_pred_df.actual, y_pred_df.new_predict)"
   ]
  },
  {
   "cell_type": "code",
   "execution_count": 84,
   "id": "44b9956c",
   "metadata": {},
   "outputs": [],
   "source": [
    "from sklearn.metrics import roc_curve, roc_auc_score"
   ]
  },
  {
   "cell_type": "code",
   "execution_count": 85,
   "id": "b83e63b6",
   "metadata": {},
   "outputs": [
    {
     "data": {
      "text/plain": [
       "0.7264423658428416"
      ]
     },
     "execution_count": 85,
     "metadata": {},
     "output_type": "execute_result"
    }
   ],
   "source": [
    "roc_auc_score(y_pred_df.actual, y_pred_df.predicted_prob)"
   ]
  },
  {
   "cell_type": "code",
   "execution_count": 86,
   "id": "9595d8a2",
   "metadata": {},
   "outputs": [
    {
     "data": {
      "text/plain": [
       "0.6474831673587872"
      ]
     },
     "execution_count": 86,
     "metadata": {},
     "output_type": "execute_result"
    }
   ],
   "source": [
    "roc_auc_score(y_pred_df.actual, y_pred_df.predicted_new)"
   ]
  },
  {
   "cell_type": "code",
   "execution_count": 87,
   "id": "b8ca5cd4",
   "metadata": {},
   "outputs": [],
   "source": [
    "def draw_roc(actual, probability):\n",
    "    fpr, tpr, thresholds = roc_curve(actual, probability, drop_intermediate= False)\n",
    "    auc_score = roc_auc_score(actual, probability)\n",
    "    plt.figure(figsize=(8,6))\n",
    "    plt.plot(fpr, tpr, label = 'ROC curve (area = %0.2f)' %auc_score)\n",
    "    plt.plot([0,1], [0,1], 'k--')\n",
    "    plt.xlim([0.0, 1.0])\n",
    "    plt.ylim([0.0, 1.0])\n",
    "    plt.xlabel('False Positive Rate or [1- True Negative Rate]')\n",
    "    plt.ylabel('True Positive Rate')\n",
    "    plt.legend(loc = 'lower right')\n",
    "    plt.show()\n",
    "    return fpr, tpr, thresholds"
   ]
  },
  {
   "cell_type": "code",
   "execution_count": 97,
   "id": "83dd854e",
   "metadata": {
    "scrolled": true
   },
   "outputs": [
    {
     "data": {
      "image/png": "[encoded data removed]",
      "text/plain": [
       "<Figure size 800x600 with 1 Axes>"
      ]
     },
     "metadata": {},
     "output_type": "display_data"
    }
   ],
   "source": [
    "fpr, tpr, thresholds = draw_roc(y_pred_df.actual, y_pred_df.predicted_new)"
   ]
  },
  {
   "cell_type": "code",
   "execution_count": 98,
   "id": "8b8be75d",
   "metadata": {
    "scrolled": true
   },
   "outputs": [
    {
     "data": {
      "text/html": [
       "<div>\n",
       "<style scoped>\n",
       "    .dataframe tbody tr th:only-of-type {\n",
       "        vertical-align: middle;\n",
       "    }\n",
       "\n",
       "    .dataframe tbody tr th {\n",
       "        vertical-align: top;\n",
       "    }\n",
       "\n",
       "    .dataframe thead th {\n",
       "        text-align: right;\n",
       "    }\n",
       "</style>\n",
       "<table border=\"1\" class=\"dataframe\">\n",
       "  <thead>\n",
       "    <tr style=\"text-align: right;\">\n",
       "      <th></th>\n",
       "      <th>tpr</th>\n",
       "      <th>fpr</th>\n",
       "      <th>thresholds</th>\n",
       "      <th>diff</th>\n",
       "    </tr>\n",
       "  </thead>\n",
       "  <tbody>\n",
       "    <tr>\n",
       "      <th>280</th>\n",
       "      <td>0.538235</td>\n",
       "      <td>0.304318</td>\n",
       "      <td>0.206535</td>\n",
       "      <td>0.233917</td>\n",
       "    </tr>\n",
       "    <tr>\n",
       "      <th>293</th>\n",
       "      <td>0.552941</td>\n",
       "      <td>0.319397</td>\n",
       "      <td>0.202286</td>\n",
       "      <td>0.233544</td>\n",
       "    </tr>\n",
       "    <tr>\n",
       "      <th>281</th>\n",
       "      <td>0.538235</td>\n",
       "      <td>0.305003</td>\n",
       "      <td>0.206435</td>\n",
       "      <td>0.233232</td>\n",
       "    </tr>\n",
       "    <tr>\n",
       "      <th>288</th>\n",
       "      <td>0.544118</td>\n",
       "      <td>0.311172</td>\n",
       "      <td>0.203668</td>\n",
       "      <td>0.232946</td>\n",
       "    </tr>\n",
       "    <tr>\n",
       "      <th>294</th>\n",
       "      <td>0.552941</td>\n",
       "      <td>0.320082</td>\n",
       "      <td>0.202091</td>\n",
       "      <td>0.232859</td>\n",
       "    </tr>\n",
       "  </tbody>\n",
       "</table>\n",
       "</div>"
      ],
      "text/plain": [
       "          tpr       fpr  thresholds      diff\n",
       "280  0.538235  0.304318    0.206535  0.233917\n",
       "293  0.552941  0.319397    0.202286  0.233544\n",
       "281  0.538235  0.305003    0.206435  0.233232\n",
       "288  0.544118  0.311172    0.203668  0.232946\n",
       "294  0.552941  0.320082    0.202091  0.232859"
      ]
     },
     "execution_count": 98,
     "metadata": {},
     "output_type": "execute_result"
    }
   ],
   "source": [
    "tpr_fpr = pd.DataFrame({'tpr': tpr, 'fpr': fpr, 'thresholds': thresholds})\n",
    "tpr_fpr['diff'] = tpr_fpr.tpr - tpr_fpr.fpr\n",
    "tpr_fpr.sort_values('diff', ascending= False)[0:5]#here it shows to take optimal cut off as 0.20. hence\n",
    "#we need to make the changes and build a model again"
   ]
  },
  {
   "cell_type": "code",
   "execution_count": 99,
   "id": "bc7723cd",
   "metadata": {},
   "outputs": [],
   "source": [
    "y_pred_df['new_predict'] = y_pred_df.predicted_new.map(lambda x: 1 if x > 0.2 else 0)"
   ]
  },
  {
   "cell_type": "code",
   "execution_count": 100,
   "id": "8575c15d",
   "metadata": {
    "scrolled": true
   },
   "outputs": [
    {
     "name": "stdout",
     "output_type": "stream",
     "text": [
      "              precision    recall  f1-score   support\n",
      "\n",
      "           0       0.87      0.67      0.76      1459\n",
      "           1       0.28      0.56      0.37       340\n",
      "\n",
      "    accuracy                           0.65      1799\n",
      "   macro avg       0.57      0.61      0.57      1799\n",
      "weighted avg       0.76      0.65      0.68      1799\n",
      "\n"
     ]
    }
   ],
   "source": [
    "print(classification_report(y_pred_df.actual, y_pred_df.new_predict))#the recall and f1 score of not joined \n",
    "#that is 1 is improved now"
   ]
  },
  {
   "cell_type": "code",
   "execution_count": 101,
   "id": "a695fa5b",
   "metadata": {},
   "outputs": [],
   "source": [
    "#we need to reperform the model by removing the next set of insiginificant variables"
   ]
  },
  {
   "cell_type": "code",
   "execution_count": 102,
   "id": "1ca51fb2",
   "metadata": {},
   "outputs": [],
   "source": [
    "X_train = X_train[significant_vars_1]"
   ]
  },
  {
   "cell_type": "code",
   "execution_count": 103,
   "id": "7b4887e2",
   "metadata": {},
   "outputs": [
    {
     "name": "stdout",
     "output_type": "stream",
     "text": [
      "Optimization terminated successfully.\n",
      "         Current function value: 0.449300\n",
      "         Iterations 6\n"
     ]
    }
   ],
   "source": [
    "logit_final = sm.Logit(y_train, X_train)\n",
    "logit_final_model = logit_final.fit()"
   ]
  },
  {
   "cell_type": "code",
   "execution_count": 104,
   "id": "ed9d01b1",
   "metadata": {},
   "outputs": [
    {
     "data": {
      "text/html": [
       "<table class=\"simpletable\">\n",
       "<tr>\n",
       "        <td>Model:</td>              <td>Logit</td>      <td>Pseudo R-squared:</td>    <td>0.066</td>  \n",
       "</tr>\n",
       "<tr>\n",
       "  <td>Dependent Variable:</td>      <td>Status</td>            <td>AIC:</td>         <td>6484.3314</td>\n",
       "</tr>\n",
       "<tr>\n",
       "         <td>Date:</td>        <td>2023-10-05 18:59</td>       <td>BIC:</td>         <td>6546.2630</td>\n",
       "</tr>\n",
       "<tr>\n",
       "   <td>No. Observations:</td>        <td>7196</td>        <td>Log-Likelihood:</td>    <td>-3233.2</td> \n",
       "</tr>\n",
       "<tr>\n",
       "       <td>Df Model:</td>              <td>8</td>            <td>LL-Null:</td>        <td>-3462.0</td> \n",
       "</tr>\n",
       "<tr>\n",
       "     <td>Df Residuals:</td>          <td>7187</td>         <td>LLR p-value:</td>    <td>8.6324e-94</td>\n",
       "</tr>\n",
       "<tr>\n",
       "      <td>Converged:</td>           <td>1.0000</td>           <td>Scale:</td>         <td>1.0000</td>  \n",
       "</tr>\n",
       "<tr>\n",
       "    <td>No. Iterations:</td>        <td>6.0000</td>              <td></td>               <td></td>     \n",
       "</tr>\n",
       "</table>\n",
       "<table class=\"simpletable\">\n",
       "<tr>\n",
       "                   <td></td>                   <th>Coef.</th>  <th>Std.Err.</th>    <th>z</th>     <th>P>|z|</th> <th>[0.025</th>  <th>0.975]</th> \n",
       "</tr>\n",
       "<tr>\n",
       "  <th>Notice period</th>                      <td>0.0207</td>   <td>0.0014</td>  <td>15.2267</td> <td>0.0000</td> <td>0.0180</td>  <td>0.0234</td> \n",
       "</tr>\n",
       "<tr>\n",
       "  <th>Age</th>                                <td>-0.0312</td>  <td>0.0063</td>  <td>-4.9379</td> <td>0.0000</td> <td>-0.0436</td> <td>-0.0188</td>\n",
       "</tr>\n",
       "<tr>\n",
       "  <th>Offered band_E1</th>                    <td>-1.0629</td>  <td>0.1844</td>  <td>-5.7641</td> <td>0.0000</td> <td>-1.4243</td> <td>-0.7015</td>\n",
       "</tr>\n",
       "<tr>\n",
       "  <th>Offered band_E2</th>                    <td>-0.7412</td>  <td>0.2063</td>  <td>-3.5936</td> <td>0.0003</td> <td>-1.1455</td> <td>-0.3369</td>\n",
       "</tr>\n",
       "<tr>\n",
       "  <th>Offered band_E3</th>                    <td>-0.8782</td>  <td>0.2604</td>  <td>-3.3721</td> <td>0.0007</td> <td>-1.3886</td> <td>-0.3678</td>\n",
       "</tr>\n",
       "<tr>\n",
       "  <th>Candidate Source_Direct</th>            <td>-0.3067</td>  <td>0.0687</td>  <td>-4.4642</td> <td>0.0000</td> <td>-0.4414</td> <td>-0.1721</td>\n",
       "</tr>\n",
       "<tr>\n",
       "  <th>Candidate Source_Employee Referral</th> <td>-0.7347</td>  <td>0.1060</td>  <td>-6.9285</td> <td>0.0000</td> <td>-0.9426</td> <td>-0.5269</td>\n",
       "</tr>\n",
       "<tr>\n",
       "  <th>LOB_ETS</th>                            <td>-0.4116</td>  <td>0.1256</td>  <td>-3.2766</td> <td>0.0011</td> <td>-0.6578</td> <td>-0.1654</td>\n",
       "</tr>\n",
       "<tr>\n",
       "  <th>LOB_INFRA</th>                          <td>-0.7361</td>  <td>0.0817</td>  <td>-9.0053</td> <td>0.0000</td> <td>-0.8963</td> <td>-0.5759</td>\n",
       "</tr>\n",
       "</table>"
      ],
      "text/plain": [
       "<class 'statsmodels.iolib.summary2.Summary'>\n",
       "\"\"\"\n",
       "                                  Results: Logit\n",
       "==================================================================================\n",
       "Model:                     Logit                 Pseudo R-squared:      0.066     \n",
       "Dependent Variable:        Status                AIC:                   6484.3314 \n",
       "Date:                      2023-10-05 18:59      BIC:                   6546.2630 \n",
       "No. Observations:          7196                  Log-Likelihood:        -3233.2   \n",
       "Df Model:                  8                     LL-Null:               -3462.0   \n",
       "Df Residuals:              7187                  LLR p-value:           8.6324e-94\n",
       "Converged:                 1.0000                Scale:                 1.0000    \n",
       "No. Iterations:            6.0000                                                 \n",
       "----------------------------------------------------------------------------------\n",
       "                                    Coef.  Std.Err.    z    P>|z|   [0.025  0.975]\n",
       "----------------------------------------------------------------------------------\n",
       "Notice period                       0.0207   0.0014 15.2267 0.0000  0.0180  0.0234\n",
       "Age                                -0.0312   0.0063 -4.9379 0.0000 -0.0436 -0.0188\n",
       "Offered band_E1                    -1.0629   0.1844 -5.7641 0.0000 -1.4243 -0.7015\n",
       "Offered band_E2                    -0.7412   0.2063 -3.5936 0.0003 -1.1455 -0.3369\n",
       "Offered band_E3                    -0.8782   0.2604 -3.3721 0.0007 -1.3886 -0.3678\n",
       "Candidate Source_Direct            -0.3067   0.0687 -4.4642 0.0000 -0.4414 -0.1721\n",
       "Candidate Source_Employee Referral -0.7347   0.1060 -6.9285 0.0000 -0.9426 -0.5269\n",
       "LOB_ETS                            -0.4116   0.1256 -3.2766 0.0011 -0.6578 -0.1654\n",
       "LOB_INFRA                          -0.7361   0.0817 -9.0053 0.0000 -0.8963 -0.5759\n",
       "==================================================================================\n",
       "\n",
       "\"\"\""
      ]
     },
     "execution_count": 104,
     "metadata": {},
     "output_type": "execute_result"
    }
   ],
   "source": [
    "logit_final_model.summary2()"
   ]
  },
  {
   "cell_type": "code",
   "execution_count": 106,
   "id": "4a98a56a",
   "metadata": {},
   "outputs": [],
   "source": [
    "y_pred = logit_final_model.predict(X_test[significant_vars_1])"
   ]
  },
  {
   "cell_type": "code",
   "execution_count": 107,
   "id": "b9ee8feb",
   "metadata": {},
   "outputs": [],
   "source": [
    "y_pred_df['final_predicted_prob'] = y_pred"
   ]
  },
  {
   "cell_type": "code",
   "execution_count": 108,
   "id": "6da88bab",
   "metadata": {},
   "outputs": [],
   "source": [
    "y_pred_df['final_predicted'] = y_pred_df.final_predicted_prob.map(lambda x: 1 if x > 0.20 else 0)"
   ]
  },
  {
   "cell_type": "code",
   "execution_count": 110,
   "id": "1ccce297",
   "metadata": {
    "scrolled": true
   },
   "outputs": [
    {
     "name": "stdout",
     "output_type": "stream",
     "text": [
      "              precision    recall  f1-score   support\n",
      "\n",
      "           0       0.87      0.67      0.76      1459\n",
      "           1       0.28      0.56      0.38       340\n",
      "\n",
      "    accuracy                           0.65      1799\n",
      "   macro avg       0.58      0.62      0.57      1799\n",
      "weighted avg       0.76      0.65      0.68      1799\n",
      "\n"
     ]
    }
   ],
   "source": [
    "print(classification_report(y_pred_df.actual, y_pred_df.final_predicted))"
   ]
  },
  {
   "cell_type": "code",
   "execution_count": 111,
   "id": "0042e4c0",
   "metadata": {
    "scrolled": true
   },
   "outputs": [
    {
     "data": {
      "image/png": "[encoded data removed]",
      "text/plain": [
       "<Figure size 800x600 with 1 Axes>"
      ]
     },
     "metadata": {},
     "output_type": "display_data"
    }
   ],
   "source": [
    "fpr, tpr, thresholds = draw_roc(y_pred_df.actual, y_pred_df.final_predicted_prob)"
   ]
  },
  {
   "cell_type": "code",
   "execution_count": 112,
   "id": "ae4822b2",
   "metadata": {
    "scrolled": true
   },
   "outputs": [
    {
     "data": {
      "text/html": [
       "<div>\n",
       "<style scoped>\n",
       "    .dataframe tbody tr th:only-of-type {\n",
       "        vertical-align: middle;\n",
       "    }\n",
       "\n",
       "    .dataframe tbody tr th {\n",
       "        vertical-align: top;\n",
       "    }\n",
       "\n",
       "    .dataframe thead th {\n",
       "        text-align: right;\n",
       "    }\n",
       "</style>\n",
       "<table border=\"1\" class=\"dataframe\">\n",
       "  <thead>\n",
       "    <tr style=\"text-align: right;\">\n",
       "      <th></th>\n",
       "      <th>tpr</th>\n",
       "      <th>fpr</th>\n",
       "      <th>thresholds</th>\n",
       "      <th>diff</th>\n",
       "    </tr>\n",
       "  </thead>\n",
       "  <tbody>\n",
       "    <tr>\n",
       "      <th>197</th>\n",
       "      <td>0.523529</td>\n",
       "      <td>0.287183</td>\n",
       "      <td>0.211546</td>\n",
       "      <td>0.236346</td>\n",
       "    </tr>\n",
       "    <tr>\n",
       "      <th>227</th>\n",
       "      <td>0.573529</td>\n",
       "      <td>0.337903</td>\n",
       "      <td>0.198126</td>\n",
       "      <td>0.235627</td>\n",
       "    </tr>\n",
       "    <tr>\n",
       "      <th>208</th>\n",
       "      <td>0.541176</td>\n",
       "      <td>0.305689</td>\n",
       "      <td>0.205975</td>\n",
       "      <td>0.235488</td>\n",
       "    </tr>\n",
       "    <tr>\n",
       "      <th>216</th>\n",
       "      <td>0.550000</td>\n",
       "      <td>0.314599</td>\n",
       "      <td>0.202875</td>\n",
       "      <td>0.235401</td>\n",
       "    </tr>\n",
       "    <tr>\n",
       "      <th>213</th>\n",
       "      <td>0.547059</td>\n",
       "      <td>0.311857</td>\n",
       "      <td>0.203742</td>\n",
       "      <td>0.235201</td>\n",
       "    </tr>\n",
       "  </tbody>\n",
       "</table>\n",
       "</div>"
      ],
      "text/plain": [
       "          tpr       fpr  thresholds      diff\n",
       "197  0.523529  0.287183    0.211546  0.236346\n",
       "227  0.573529  0.337903    0.198126  0.235627\n",
       "208  0.541176  0.305689    0.205975  0.235488\n",
       "216  0.550000  0.314599    0.202875  0.235401\n",
       "213  0.547059  0.311857    0.203742  0.235201"
      ]
     },
     "execution_count": 112,
     "metadata": {},
     "output_type": "execute_result"
    }
   ],
   "source": [
    "tpr_fpr = pd.DataFrame({'tpr': tpr, 'fpr': fpr, 'thresholds': thresholds})\n",
    "tpr_fpr['diff'] = tpr_fpr.tpr - tpr_fpr.fpr\n",
    "tpr_fpr.sort_values('diff', ascending= False)[0:5]"
   ]
  }
 ],
 "metadata": {
  "kernelspec": {
   "display_name": "Python 3 (ipykernel)",
   "language": "python",
   "name": "python3"
  },
  "language_info": {
   "codemirror_mode": {
    "name": "ipython",
    "version": 3
   },
   "file_extension": ".py",
   "mimetype": "text/x-python",
   "name": "python",
   "nbconvert_exporter": "python",
   "pygments_lexer": "ipython3",
   "version": "3.9.13"
  }
 },
 "nbformat": 4,
 "nbformat_minor": 5
}
