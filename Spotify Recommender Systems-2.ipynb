{
 "cells": [
  {
   "cell_type": "code",
   "execution_count": 89,
   "id": "678e7561",
   "metadata": {},
   "outputs": [],
   "source": [
    "import pandas as pd \n",
    "import numpy as np"
   ]
  },
  {
   "cell_type": "code",
   "execution_count": 90,
   "id": "efcda36e",
   "metadata": {},
   "outputs": [],
   "source": [
    "spotify_df = pd.read_csv('SpotifyFeatures.csv')"
   ]
  },
  {
   "cell_type": "code",
   "execution_count": 91,
   "id": "65614e2c",
   "metadata": {},
   "outputs": [],
   "source": [
    "spotify_sample_df = spotify_df.sample(n= 20000, random_state= 42)"
   ]
  },
  {
   "cell_type": "code",
   "execution_count": 92,
   "id": "85335492",
   "metadata": {
    "scrolled": false
   },
   "outputs": [
    {
     "data": {
      "text/html": [
       "<div>\n",
       "<style scoped>\n",
       "    .dataframe tbody tr th:only-of-type {\n",
       "        vertical-align: middle;\n",
       "    }\n",
       "\n",
       "    .dataframe tbody tr th {\n",
       "        vertical-align: top;\n",
       "    }\n",
       "\n",
       "    .dataframe thead th {\n",
       "        text-align: right;\n",
       "    }\n",
       "</style>\n",
       "<table border=\"1\" class=\"dataframe\">\n",
       "  <thead>\n",
       "    <tr style=\"text-align: right;\">\n",
       "      <th></th>\n",
       "      <th>genre</th>\n",
       "      <th>artist_name</th>\n",
       "      <th>track_name</th>\n",
       "      <th>track_id</th>\n",
       "      <th>popularity</th>\n",
       "      <th>acousticness</th>\n",
       "      <th>danceability</th>\n",
       "      <th>duration_ms</th>\n",
       "      <th>energy</th>\n",
       "      <th>instrumentalness</th>\n",
       "      <th>key</th>\n",
       "      <th>liveness</th>\n",
       "      <th>loudness</th>\n",
       "      <th>mode</th>\n",
       "      <th>speechiness</th>\n",
       "      <th>tempo</th>\n",
       "      <th>time_signature</th>\n",
       "      <th>valence</th>\n",
       "    </tr>\n",
       "  </thead>\n",
       "  <tbody>\n",
       "    <tr>\n",
       "      <th>788</th>\n",
       "      <td>Country</td>\n",
       "      <td>A Thousand Horses</td>\n",
       "      <td>My Time's Comin'</td>\n",
       "      <td>16zol4GvHyTER5irYODUk0</td>\n",
       "      <td>45</td>\n",
       "      <td>0.00192</td>\n",
       "      <td>0.327</td>\n",
       "      <td>194107</td>\n",
       "      <td>0.8350</td>\n",
       "      <td>0.000150</td>\n",
       "      <td>C</td>\n",
       "      <td>0.1670</td>\n",
       "      <td>-4.952</td>\n",
       "      <td>Major</td>\n",
       "      <td>0.0609</td>\n",
       "      <td>171.795</td>\n",
       "      <td>4/4</td>\n",
       "      <td>0.3850</td>\n",
       "    </tr>\n",
       "    <tr>\n",
       "      <th>207109</th>\n",
       "      <td>Soundtrack</td>\n",
       "      <td>Mark Mothersbaugh</td>\n",
       "      <td>House Tour</td>\n",
       "      <td>6ac5gUfGTckpdGQCyWsdh2</td>\n",
       "      <td>25</td>\n",
       "      <td>0.93200</td>\n",
       "      <td>0.253</td>\n",
       "      <td>102920</td>\n",
       "      <td>0.0798</td>\n",
       "      <td>0.568000</td>\n",
       "      <td>C</td>\n",
       "      <td>0.0906</td>\n",
       "      <td>-18.512</td>\n",
       "      <td>Major</td>\n",
       "      <td>0.0439</td>\n",
       "      <td>110.931</td>\n",
       "      <td>4/4</td>\n",
       "      <td>0.0487</td>\n",
       "    </tr>\n",
       "    <tr>\n",
       "      <th>138644</th>\n",
       "      <td>Reggae</td>\n",
       "      <td>Unified Highway</td>\n",
       "      <td>We Can't Fall (Remix) [feat. J. Patz]</td>\n",
       "      <td>09Yz6koF1Y15n1012t1UX6</td>\n",
       "      <td>19</td>\n",
       "      <td>0.03310</td>\n",
       "      <td>0.821</td>\n",
       "      <td>225437</td>\n",
       "      <td>0.7370</td>\n",
       "      <td>0.013400</td>\n",
       "      <td>E</td>\n",
       "      <td>0.1320</td>\n",
       "      <td>-6.295</td>\n",
       "      <td>Minor</td>\n",
       "      <td>0.2120</td>\n",
       "      <td>137.968</td>\n",
       "      <td>4/4</td>\n",
       "      <td>0.7870</td>\n",
       "    </tr>\n",
       "    <tr>\n",
       "      <th>37164</th>\n",
       "      <td>Electronic</td>\n",
       "      <td>Stooki Sound</td>\n",
       "      <td>Endz - Original Mix</td>\n",
       "      <td>3dzEZARDL4ZwICMKVta7Xn</td>\n",
       "      <td>29</td>\n",
       "      <td>0.00428</td>\n",
       "      <td>0.745</td>\n",
       "      <td>225400</td>\n",
       "      <td>0.7720</td>\n",
       "      <td>0.114000</td>\n",
       "      <td>E</td>\n",
       "      <td>0.0722</td>\n",
       "      <td>-3.949</td>\n",
       "      <td>Major</td>\n",
       "      <td>0.0904</td>\n",
       "      <td>133.113</td>\n",
       "      <td>4/4</td>\n",
       "      <td>0.1700</td>\n",
       "    </tr>\n",
       "    <tr>\n",
       "      <th>174351</th>\n",
       "      <td>Comedy</td>\n",
       "      <td>Bill Hicks</td>\n",
       "      <td>I Love My Job (Live)</td>\n",
       "      <td>39Z1G5384UgGa5vmW6WyxC</td>\n",
       "      <td>17</td>\n",
       "      <td>0.96500</td>\n",
       "      <td>0.502</td>\n",
       "      <td>287973</td>\n",
       "      <td>0.8040</td>\n",
       "      <td>0.000096</td>\n",
       "      <td>G</td>\n",
       "      <td>0.9020</td>\n",
       "      <td>-9.935</td>\n",
       "      <td>Major</td>\n",
       "      <td>0.8070</td>\n",
       "      <td>104.576</td>\n",
       "      <td>3/4</td>\n",
       "      <td>0.1850</td>\n",
       "    </tr>\n",
       "  </tbody>\n",
       "</table>\n",
       "</div>"
      ],
      "text/plain": [
       "             genre        artist_name                             track_name  \\\n",
       "788        Country  A Thousand Horses                       My Time's Comin'   \n",
       "207109  Soundtrack  Mark Mothersbaugh                             House Tour   \n",
       "138644      Reggae    Unified Highway  We Can't Fall (Remix) [feat. J. Patz]   \n",
       "37164   Electronic       Stooki Sound                    Endz - Original Mix   \n",
       "174351      Comedy         Bill Hicks                   I Love My Job (Live)   \n",
       "\n",
       "                      track_id  popularity  acousticness  danceability  \\\n",
       "788     16zol4GvHyTER5irYODUk0          45       0.00192         0.327   \n",
       "207109  6ac5gUfGTckpdGQCyWsdh2          25       0.93200         0.253   \n",
       "138644  09Yz6koF1Y15n1012t1UX6          19       0.03310         0.821   \n",
       "37164   3dzEZARDL4ZwICMKVta7Xn          29       0.00428         0.745   \n",
       "174351  39Z1G5384UgGa5vmW6WyxC          17       0.96500         0.502   \n",
       "\n",
       "        duration_ms  energy  instrumentalness key  liveness  loudness   mode  \\\n",
       "788          194107  0.8350          0.000150   C    0.1670    -4.952  Major   \n",
       "207109       102920  0.0798          0.568000   C    0.0906   -18.512  Major   \n",
       "138644       225437  0.7370          0.013400   E    0.1320    -6.295  Minor   \n",
       "37164        225400  0.7720          0.114000   E    0.0722    -3.949  Major   \n",
       "174351       287973  0.8040          0.000096   G    0.9020    -9.935  Major   \n",
       "\n",
       "        speechiness    tempo time_signature  valence  \n",
       "788          0.0609  171.795            4/4   0.3850  \n",
       "207109       0.0439  110.931            4/4   0.0487  \n",
       "138644       0.2120  137.968            4/4   0.7870  \n",
       "37164        0.0904  133.113            4/4   0.1700  \n",
       "174351       0.8070  104.576            3/4   0.1850  "
      ]
     },
     "execution_count": 92,
     "metadata": {},
     "output_type": "execute_result"
    }
   ],
   "source": [
    "spotify_sample_df.head(5)"
   ]
  },
  {
   "cell_type": "code",
   "execution_count": 93,
   "id": "37fdaea7",
   "metadata": {
    "scrolled": true
   },
   "outputs": [],
   "source": [
    "spotify_sample_df = spotify_sample_df.reset_index(drop= True)"
   ]
  },
  {
   "cell_type": "code",
   "execution_count": 94,
   "id": "14bacfb8",
   "metadata": {},
   "outputs": [
    {
     "name": "stdout",
     "output_type": "stream",
     "text": [
      "<class 'pandas.core.frame.DataFrame'>\n",
      "RangeIndex: 20000 entries, 0 to 19999\n",
      "Data columns (total 18 columns):\n",
      " #   Column            Non-Null Count  Dtype  \n",
      "---  ------            --------------  -----  \n",
      " 0   genre             20000 non-null  object \n",
      " 1   artist_name       20000 non-null  object \n",
      " 2   track_name        20000 non-null  object \n",
      " 3   track_id          20000 non-null  object \n",
      " 4   popularity        20000 non-null  int64  \n",
      " 5   acousticness      20000 non-null  float64\n",
      " 6   danceability      20000 non-null  float64\n",
      " 7   duration_ms       20000 non-null  int64  \n",
      " 8   energy            20000 non-null  float64\n",
      " 9   instrumentalness  20000 non-null  float64\n",
      " 10  key               20000 non-null  object \n",
      " 11  liveness          20000 non-null  float64\n",
      " 12  loudness          20000 non-null  float64\n",
      " 13  mode              20000 non-null  object \n",
      " 14  speechiness       20000 non-null  float64\n",
      " 15  tempo             20000 non-null  float64\n",
      " 16  time_signature    20000 non-null  object \n",
      " 17  valence           20000 non-null  float64\n",
      "dtypes: float64(9), int64(2), object(7)\n",
      "memory usage: 2.7+ MB\n"
     ]
    }
   ],
   "source": [
    "spotify_sample_df.info()"
   ]
  },
  {
   "cell_type": "code",
   "execution_count": 95,
   "id": "93e31b90",
   "metadata": {},
   "outputs": [],
   "source": [
    "categorical_features = ['genre', 'artist_name', 'track_name', 'key', 'mode']"
   ]
  },
  {
   "cell_type": "code",
   "execution_count": 96,
   "id": "9ea40ed9",
   "metadata": {},
   "outputs": [
    {
     "data": {
      "text/plain": [
       "['speechiness',\n",
       " 'duration_ms',\n",
       " 'track_id',\n",
       " 'instrumentalness',\n",
       " 'loudness',\n",
       " 'energy',\n",
       " 'acousticness',\n",
       " 'danceability',\n",
       " 'popularity',\n",
       " 'time_signature',\n",
       " 'valence',\n",
       " 'liveness',\n",
       " 'tempo']"
      ]
     },
     "execution_count": 96,
     "metadata": {},
     "output_type": "execute_result"
    }
   ],
   "source": [
    "X_features = list(set(spotify_sample_df.columns) - set(categorical_features))\n",
    "X_features"
   ]
  },
  {
   "cell_type": "code",
   "execution_count": 97,
   "id": "9a30fe81",
   "metadata": {},
   "outputs": [
    {
     "data": {
      "text/plain": [
       "['speechiness',\n",
       " 'duration_ms',\n",
       " 'instrumentalness',\n",
       " 'loudness',\n",
       " 'energy',\n",
       " 'acousticness',\n",
       " 'danceability',\n",
       " 'popularity',\n",
       " 'valence',\n",
       " 'liveness',\n",
       " 'tempo']"
      ]
     },
     "execution_count": 97,
     "metadata": {},
     "output_type": "execute_result"
    }
   ],
   "source": [
    "X_features.remove('track_id')\n",
    "X_features.remove('time_signature')\n",
    "X_features"
   ]
  },
  {
   "cell_type": "code",
   "execution_count": 98,
   "id": "35c93f2c",
   "metadata": {},
   "outputs": [],
   "source": [
    "from sklearn.preprocessing import StandardScaler\n",
    "Scaler = StandardScaler()\n",
    "spotify_sample_df[X_features] = Scaler.fit_transform(spotify_sample_df[X_features])"
   ]
  },
  {
   "cell_type": "code",
   "execution_count": 99,
   "id": "9d9a0771",
   "metadata": {},
   "outputs": [],
   "source": [
    "# Concatenating categorical features into a single feature\n",
    "spotify_sample_df['combined_features'] = spotify_sample_df[categorical_features].apply(lambda x: ' '.join(x), \n",
    "                                                                                       axis=1)"
   ]
  },
  {
   "cell_type": "code",
   "execution_count": 100,
   "id": "b8188af9",
   "metadata": {},
   "outputs": [],
   "source": [
    "# Computing cosine similarity between items\n",
    "from sklearn.feature_extraction.text import TfidfVectorizer\n",
    "from sklearn.metrics.pairwise import cosine_similarity\n",
    "tfidf_vectorizer = TfidfVectorizer()\n",
    "tfidf_matrix = tfidf_vectorizer.fit_transform(spotify_sample_df['combined_features'])\n",
    "cosine_sim = cosine_similarity(tfidf_matrix, tfidf_matrix)"
   ]
  },
  {
   "cell_type": "code",
   "execution_count": 101,
   "id": "26792f5d",
   "metadata": {},
   "outputs": [],
   "source": [
    "# Function to get recommendations\n",
    "def get_recommendations(track_name, cosine_sim, data):\n",
    "    idx = data.loc[data['track_name'] == track_name].index[0]\n",
    "    similar_scores = list(enumerate(cosine_sim[idx]))\n",
    "    similar_scores = sorted(similar_scores, key=lambda x: x[1], reverse=True)\n",
    "    similar_scores = similar_scores[1:11]  # excluding the first entry as it is the same track\n",
    "\n",
    "    recommended_tracks = [data.iloc[i[0]]['track_name'] for i in similar_scores]\n",
    "\n",
    "    return recommended_tracks"
   ]
  },
  {
   "cell_type": "code",
   "execution_count": 102,
   "id": "1edac9ca",
   "metadata": {},
   "outputs": [
    {
     "name": "stdout",
     "output_type": "stream",
     "text": [
      "['Garmadon Attacks', 'Weird Things Happen', 'S P A C E', \"The People's House\", 'Le tour de force', \"What's Not to Love\", 'XO Tour Llif3', 'Un tour de manège', 'My House Your House', 'Prayer Changes Everything']\n"
     ]
    }
   ],
   "source": [
    "track_name = 'House Tour'\n",
    "recommendations = get_recommendations(track_name, cosine_sim, spotify_sample_df)\n",
    "print(recommendations)"
   ]
  }
 ],
 "metadata": {
  "kernelspec": {
   "display_name": "Python 3 (ipykernel)",
   "language": "python",
   "name": "python3"
  },
  "language_info": {
   "codemirror_mode": {
    "name": "ipython",
    "version": 3
   },
   "file_extension": ".py",
   "mimetype": "text/x-python",
   "name": "python",
   "nbconvert_exporter": "python",
   "pygments_lexer": "ipython3",
   "version": "3.9.13"
  }
 },
 "nbformat": 4,
 "nbformat_minor": 5
}
